{
 "cells": [
  {
   "cell_type": "markdown",
   "id": "868f1658-e43c-4d60-91c0-1710c67097fd",
   "metadata": {},
   "source": [
    "<h1>Relatório sobre Jupyter</h1>\n",
    "<h3>Introdução</h3>"
   ]
  },
  {
   "cell_type": "markdown",
   "id": "26cd58c1-4c97-4e39-bad2-b9941dd9eb42",
   "metadata": {},
   "source": [
    "- Funciona como o **bash** de python\n",
    "- Todos os comandos e variáveis devem ser inicializados\n",
    "- É possível usar o tipo de linguagem **Markdown** para realizar anotações em todo o \"notebook\"\n",
    "- \"Alt + Enter\" cria uma nova célula\n",
    "- \"Shift + Enter\" roda o comando da célula e pula a linha\n",
    "- \"Ctrl + Enter\" roda a célula mas não pula a linha"
   ]
  },
  {
   "cell_type": "code",
   "execution_count": 10,
   "id": "715356b6-e73b-4be9-9b6f-0ad20a345bd6",
   "metadata": {},
   "outputs": [
    {
     "name": "stdout",
     "output_type": "stream",
     "text": [
      "Hello World\n"
     ]
    }
   ],
   "source": [
    "print(\"Hello World\")"
   ]
  },
  {
   "cell_type": "code",
   "execution_count": 11,
   "id": "58c9bfaf-b787-4865-9f61-ec72ca99f6f0",
   "metadata": {},
   "outputs": [],
   "source": [
    "# É possível também escrever comentários nas linhas de código"
   ]
  },
  {
   "cell_type": "code",
   "execution_count": 12,
   "id": "e85d8c64-6680-4eaf-950d-59cdb14025c7",
   "metadata": {},
   "outputs": [
    {
     "name": "stdout",
     "output_type": "stream",
     "text": [
      "21\n"
     ]
    }
   ],
   "source": [
    "x = 20\n",
    "x += 1\n",
    "print(x)"
   ]
  },
  {
   "cell_type": "code",
   "execution_count": 13,
   "id": "5e853076-697c-4409-beb3-cc7b6fbb4e89",
   "metadata": {},
   "outputs": [
    {
     "name": "stdout",
     "output_type": "stream",
     "text": [
      "[ 5  7  9 11 13]\n"
     ]
    }
   ],
   "source": [
    "# É possível importar bibliotecas instaladas no seu Ambiente Virtual\n",
    "import numpy as np\n",
    "a = np.arange(5, 15, 2)\n",
    "print(a)"
   ]
  },
  {
   "cell_type": "code",
   "execution_count": 14,
   "id": "fa57540e-a40b-4848-b3f2-07d17ba3398a",
   "metadata": {},
   "outputs": [
    {
     "name": "stdout",
     "output_type": "stream",
     "text": [
      "[1 2 3 4 5 6 7 8 9]\n"
     ]
    }
   ],
   "source": [
    "# A biblioteca é utilizável nas outras células (se anteriormente sua célula for executada)\n",
    "lista = np.arange(1, 10, 1)\n",
    "print(lista)"
   ]
  },
  {
   "cell_type": "markdown",
   "id": "491af681-dbd6-4b7a-8f9f-99605e8d490c",
   "metadata": {
    "jp-MarkdownHeadingCollapsed": true
   },
   "source": [
    "<h2>Fim!</h2>"
   ]
  }
 ],
 "metadata": {
  "kernelspec": {
   "display_name": "Python 3 (ipykernel)",
   "language": "python",
   "name": "python3"
  },
  "language_info": {
   "codemirror_mode": {
    "name": "ipython",
    "version": 3
   },
   "file_extension": ".py",
   "mimetype": "text/x-python",
   "name": "python",
   "nbconvert_exporter": "python",
   "pygments_lexer": "ipython3",
   "version": "3.12.4"
  }
 },
 "nbformat": 4,
 "nbformat_minor": 5
}

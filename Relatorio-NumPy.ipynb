{
 "cells": [
  {
   "cell_type": "markdown",
   "id": "9668c34e-058b-46d7-a50e-ac093e27380e",
   "metadata": {},
   "source": [
    "<h1>Relatório de NumPy</h1>\n",
    "<h3>Introdução</h3>"
   ]
  },
  {
   "cell_type": "markdown",
   "id": "eea841f6-4484-4f0a-b1ac-320733c9532c",
   "metadata": {},
   "source": [
    "- Biblioteca usada para **facilitar** o uso de dados numéricos em python\n",
    "- É compilada baseada na linguagem C, por isso é de rápida execução\n",
    "- Instalação:"
   ]
  },
  {
   "cell_type": "code",
   "execution_count": null,
   "id": "e9bd2c6b-a1b7-4076-8f1d-2c93553234f0",
   "metadata": {
    "scrolled": true
   },
   "outputs": [],
   "source": [
    "pip install numpy"
   ]
  },
  {
   "cell_type": "markdown",
   "id": "2b6f3640-dc6d-49dd-865b-601eec404e41",
   "metadata": {},
   "source": [
    "<h3>Numpy Arrays x Python Lists</h3>"
   ]
  },
  {
   "cell_type": "markdown",
   "id": "fbfb830b-1758-4799-8ac6-488f0fc5dcdf",
   "metadata": {},
   "source": [
    "- Python Lists\n",
    "    - Possui index\n",
    "    - É possível utilizar mais de um tipo de dado na **mesma** lista\n",
    "    - Utiliza Espaços separados na memória, sendo considerado um **map** e não um **array**\n",
    "- Numpy Arrays\n",
    "    - Possui index\n",
    "    - Apenas um tipo de dado por lista\n",
    "    - O espaço alocado na memória é **contínuo**, sendo considerado um array indexado"
   ]
  },
  {
   "cell_type": "code",
   "execution_count": 1,
   "id": "a7185c82-c351-49c1-ac76-888ceada5c38",
   "metadata": {},
   "outputs": [],
   "source": [
    "import numpy as np"
   ]
  },
  {
   "cell_type": "code",
   "execution_count": 2,
   "id": "0ce755a8-f2d5-4b3f-88d6-422dde588fa6",
   "metadata": {},
   "outputs": [
    {
     "name": "stdout",
     "output_type": "stream",
     "text": [
      "[1, 2, 3, 4, 5, 6, 7, 8, 9]\n",
      "[1 2 3 4 5 6 7 8 9]\n"
     ]
    }
   ],
   "source": [
    "# Criando lista em python\n",
    "python_list = [1, 2, 3, 4, 5, 6, 7, 8, 9]\n",
    "\n",
    "# Criando array em numpy\n",
    "arr = np.array([1, 2, 3, 4, 5, 6, 7, 8, 9])\n",
    "\n",
    "print(python_list)\n",
    "print(arr)"
   ]
  },
  {
   "cell_type": "markdown",
   "id": "ce4c9bde-1822-4f40-a727-c7b4f837fa54",
   "metadata": {},
   "source": [
    "<h3>Vetores e Matrizes</h3>"
   ]
  },
  {
   "cell_type": "markdown",
   "id": "7798a188-182a-4574-90dd-4d18afb5472c",
   "metadata": {},
   "source": [
    "- É possível montar **vetores** e **matrizes** com um numpy array"
   ]
  },
  {
   "cell_type": "code",
   "execution_count": 3,
   "id": "1a8f30b6-f9d6-471d-a96c-31314faa9524",
   "metadata": {},
   "outputs": [
    {
     "name": "stdout",
     "output_type": "stream",
     "text": [
      "[1 2 3 4 5]\n",
      "[[1 2 3]\n",
      " [4 5 6]\n",
      " [7 8 9]]\n"
     ]
    }
   ],
   "source": [
    "# Criando Vetor\n",
    "vetor = np.array([1, 2, 3, 4, 5])\n",
    "\n",
    "# Criando Matriz\n",
    "matrix = np.array([[1, 2, 3], [4, 5, 6], [7, 8, 9]])\n",
    "\n",
    "print(vetor)\n",
    "print(matrix)"
   ]
  },
  {
   "cell_type": "code",
   "execution_count": 4,
   "id": "2a162159-4ce9-48b1-b00a-225d4d6109d3",
   "metadata": {},
   "outputs": [
    {
     "data": {
      "text/plain": [
       "array([ 0,  2,  4,  6,  8, 10])"
      ]
     },
     "execution_count": 4,
     "metadata": {},
     "output_type": "execute_result"
    }
   ],
   "source": [
    "# Criando um array \"descartável\", tem um começo, um fim e um passo\n",
    "arranged = np.arange(0, 11, 2)\n",
    "arranged"
   ]
  },
  {
   "cell_type": "code",
   "execution_count": 5,
   "id": "88cc3f7a-9aee-43a7-9abc-048a34c3921b",
   "metadata": {},
   "outputs": [
    {
     "data": {
      "text/plain": [
       "(6,)"
      ]
     },
     "execution_count": 5,
     "metadata": {},
     "output_type": "execute_result"
    }
   ],
   "source": [
    "# Para saber o formato do array, se é uma matriz ou vetor\n",
    "vetor.shape\n",
    "matrix.shape\n",
    "arranged.shape"
   ]
  },
  {
   "cell_type": "code",
   "execution_count": 6,
   "id": "60000da1-023e-43ab-80eb-9c2b72f4d4b6",
   "metadata": {},
   "outputs": [
    {
     "data": {
      "text/plain": [
       "array([0., 0., 0.])"
      ]
     },
     "execution_count": 6,
     "metadata": {},
     "output_type": "execute_result"
    }
   ],
   "source": [
    "# Para criar array com apenas 0\n",
    "np.zeros(3)"
   ]
  },
  {
   "cell_type": "code",
   "execution_count": 7,
   "id": "ac1875f8-3936-46d9-bf08-d50ccb65f2c0",
   "metadata": {},
   "outputs": [
    {
     "data": {
      "text/plain": [
       "array([[0., 0.],\n",
       "       [0., 0.]])"
      ]
     },
     "execution_count": 7,
     "metadata": {},
     "output_type": "execute_result"
    }
   ],
   "source": [
    "# Também é possível criar matrizes com 0\n",
    "np.zeros((2, 2))"
   ]
  },
  {
   "cell_type": "code",
   "execution_count": 8,
   "id": "1941c668-0246-4568-b544-284addca49fc",
   "metadata": {},
   "outputs": [
    {
     "data": {
      "text/plain": [
       "array([1., 1., 1., 1., 1.])"
      ]
     },
     "execution_count": 8,
     "metadata": {},
     "output_type": "execute_result"
    }
   ],
   "source": [
    "# Para criar array com apenas 1\n",
    "np.ones(5)"
   ]
  },
  {
   "cell_type": "code",
   "execution_count": 9,
   "id": "1d50582c-fe59-40b2-b2d3-39c187671cc0",
   "metadata": {},
   "outputs": [
    {
     "data": {
      "text/plain": [
       "array([[1., 1., 1., 1., 1.],\n",
       "       [1., 1., 1., 1., 1.],\n",
       "       [1., 1., 1., 1., 1.],\n",
       "       [1., 1., 1., 1., 1.],\n",
       "       [1., 1., 1., 1., 1.]])"
      ]
     },
     "execution_count": 9,
     "metadata": {},
     "output_type": "execute_result"
    }
   ],
   "source": [
    "# Matrizes também são possíveis\n",
    "np.ones((5, 5))"
   ]
  },
  {
   "cell_type": "code",
   "execution_count": 10,
   "id": "b9754556-b5f7-4fbb-b65a-ad57cae62d41",
   "metadata": {},
   "outputs": [
    {
     "data": {
      "text/plain": [
       "array([[1., 0.],\n",
       "       [0., 1.]])"
      ]
     },
     "execution_count": 10,
     "metadata": {},
     "output_type": "execute_result"
    }
   ],
   "source": [
    "# Para criar uma matriz DIAGONAL\n",
    "np.eye(2)"
   ]
  },
  {
   "cell_type": "code",
   "execution_count": 11,
   "id": "92ced856-b6c2-46ac-807e-a3db01f70190",
   "metadata": {},
   "outputs": [
    {
     "data": {
      "text/plain": [
       "array([ 0. ,  2.2,  4.4,  6.6,  8.8, 11. ])"
      ]
     },
     "execution_count": 11,
     "metadata": {},
     "output_type": "execute_result"
    }
   ],
   "source": [
    "# O método linspace() é usado para criar um array com os números espaçados igualmente, sendo ditado quantas casas deseja visualizar\n",
    "np.linspace(0, 11, 6)"
   ]
  },
  {
   "cell_type": "markdown",
   "id": "9e0a183d-79c6-424f-bb0b-f18d752df2ae",
   "metadata": {},
   "source": [
    "<h3>Numpy Random</h3>"
   ]
  },
  {
   "cell_type": "markdown",
   "id": "a2d17531-8ed6-45b1-a68f-182677c9f51d",
   "metadata": {},
   "source": [
    "- Biblioteca do numpy criada com o objetivo de ser randômica, retornar números aleatórios em suas estruturas de dados\n",
    "- É separado em 3 **principais** categorias\n",
    "    - Random Generator\n",
    "    - Legacy Generator\n",
    "    - Bit Generator"
   ]
  },
  {
   "cell_type": "code",
   "execution_count": 12,
   "id": "b3d29236-00ac-439e-86bb-7f2057dbd3ed",
   "metadata": {},
   "outputs": [
    {
     "data": {
      "text/plain": [
       "array([0.96091523])"
      ]
     },
     "execution_count": 12,
     "metadata": {},
     "output_type": "execute_result"
    }
   ],
   "source": [
    "# Esse método retorna um array ou uma matriz com números aleatórios entre 0 e 1\n",
    "np.random.rand(1)"
   ]
  },
  {
   "cell_type": "markdown",
   "id": "82ffaf25-cc50-4ed8-a87b-ee94987ffa8e",
   "metadata": {},
   "source": [
    "<h3>Array Slicing</h3>"
   ]
  },
  {
   "cell_type": "markdown",
   "id": "e71df569-48ef-48ef-b28b-ae6eabaaef18",
   "metadata": {},
   "source": [
    "- Funciona como slicing de listas python\n",
    "- Start - End - Step"
   ]
  },
  {
   "cell_type": "code",
   "execution_count": 13,
   "id": "52258cba-1a95-423b-8061-21762efd0ada",
   "metadata": {},
   "outputs": [
    {
     "data": {
      "text/plain": [
       "array([2, 4])"
      ]
     },
     "execution_count": 13,
     "metadata": {},
     "output_type": "execute_result"
    }
   ],
   "source": [
    "array = np.array([1, 2, 3, 4, 5, 6, 7, 8, 9, 10])\n",
    "array[1:4:2]"
   ]
  },
  {
   "cell_type": "code",
   "execution_count": 14,
   "id": "14a6a928-0070-4b7e-a4bd-ba2b2f878d88",
   "metadata": {},
   "outputs": [
    {
     "data": {
      "text/plain": [
       "array([1, 6, 9])"
      ]
     },
     "execution_count": 14,
     "metadata": {},
     "output_type": "execute_result"
    }
   ],
   "source": [
    "indices = [0, 5, 8]\n",
    "array[indices]"
   ]
  },
  {
   "cell_type": "markdown",
   "id": "c9eda12a-4f85-4f92-9d3b-c06c8ae146a8",
   "metadata": {},
   "source": [
    "<h2>Operações Básicas com NumPy</h2>"
   ]
  },
  {
   "cell_type": "markdown",
   "id": "0b18f2f0-7571-441b-a2fe-aff4dee17e84",
   "metadata": {},
   "source": [
    "- Operações muito usadas na manipulação de dados\n",
    "    - Média\n",
    "    - Desvio Padrão\n",
    "    - Variância\n",
    "- Simplificadas pela biblioteca"
   ]
  },
  {
   "cell_type": "code",
   "execution_count": 17,
   "id": "8b968e50-af09-40bf-8dcf-2e5953bf667a",
   "metadata": {},
   "outputs": [
    {
     "data": {
      "text/plain": [
       "np.float64(12.0)"
      ]
     },
     "execution_count": 17,
     "metadata": {},
     "output_type": "execute_result"
    }
   ],
   "source": [
    "array_teste = np.arange(0,25)\n",
    "np.mean(array_teste)"
   ]
  },
  {
   "cell_type": "code",
   "execution_count": 18,
   "id": "fbc52ff0-42a5-44d3-afb3-5811918a55eb",
   "metadata": {},
   "outputs": [
    {
     "data": {
      "text/plain": [
       "np.float64(7.211102550927978)"
      ]
     },
     "execution_count": 18,
     "metadata": {},
     "output_type": "execute_result"
    }
   ],
   "source": [
    "np.std(array_teste)"
   ]
  },
  {
   "cell_type": "code",
   "execution_count": 19,
   "id": "d3a2617f-4a5b-44bf-bb31-787b2168ca70",
   "metadata": {},
   "outputs": [
    {
     "data": {
      "text/plain": [
       "np.float64(52.0)"
      ]
     },
     "execution_count": 19,
     "metadata": {},
     "output_type": "execute_result"
    }
   ],
   "source": [
    "np.var(array_teste)"
   ]
  },
  {
   "cell_type": "markdown",
   "id": "1831f433-5b50-4a89-a91d-5c0f85ff40b5",
   "metadata": {},
   "source": [
    "<h3>Operações Matemáticas</h3>"
   ]
  },
  {
   "cell_type": "code",
   "execution_count": 21,
   "id": "70ab6164-a954-4e32-8d7c-feb9df360539",
   "metadata": {},
   "outputs": [
    {
     "data": {
      "text/plain": [
       "np.int64(105)"
      ]
     },
     "execution_count": 21,
     "metadata": {},
     "output_type": "execute_result"
    }
   ],
   "source": [
    "array_teste2 = np.arange(0, 15)\n",
    "np.sum(array_teste2) # Soma todos os elementos"
   ]
  },
  {
   "cell_type": "code",
   "execution_count": 22,
   "id": "080dcb75-5db4-4443-b1c1-1a40a11d1b06",
   "metadata": {},
   "outputs": [
    {
     "data": {
      "text/plain": [
       "np.int64(0)"
      ]
     },
     "execution_count": 22,
     "metadata": {},
     "output_type": "execute_result"
    }
   ],
   "source": [
    "np.prod(array_teste2) # Produto de todos os elementos"
   ]
  },
  {
   "cell_type": "code",
   "execution_count": 23,
   "id": "6de61bcb-ea8f-4aae-9a10-e41b17c52069",
   "metadata": {},
   "outputs": [
    {
     "data": {
      "text/plain": [
       "array([  0,   1,   3,   6,  10,  15,  21,  28,  36,  45,  55,  66,  78,\n",
       "        91, 105])"
      ]
     },
     "execution_count": 23,
     "metadata": {},
     "output_type": "execute_result"
    }
   ],
   "source": [
    "np.cumsum(array_teste2) # Soma acumulada do array inteiro"
   ]
  },
  {
   "cell_type": "code",
   "execution_count": 27,
   "id": "0cff49bc-ae5d-473c-ac2b-9d9be75f6276",
   "metadata": {},
   "outputs": [
    {
     "data": {
      "text/plain": [
       "array([68,  7, 49, 94, 10,  6])"
      ]
     },
     "execution_count": 27,
     "metadata": {},
     "output_type": "execute_result"
    }
   ],
   "source": [
    "array_final = np.add([1, 3, 15, 4, 6, 5], [67, 4, 34, 90, 4, 1]) # Funciona apenas com arrays de mesmo SHAPE\n",
    "array_final"
   ]
  },
  {
   "cell_type": "markdown",
   "id": "3355257d-be0b-4830-bb43-a29a08bd038b",
   "metadata": {},
   "source": [
    "- A multiplicação de matrizes funciona no formato X"
   ]
  },
  {
   "cell_type": "code",
   "execution_count": 29,
   "id": "3f8e39f2-51f4-4c88-8721-c71d52db58a9",
   "metadata": {},
   "outputs": [],
   "source": [
    "matrix1 = np.array([[1,2],[3,4]])\n",
    "matrix2 = np.eye(2)"
   ]
  },
  {
   "cell_type": "code",
   "execution_count": 31,
   "id": "77a04344-d106-43e2-97b2-b2ddd4f7edde",
   "metadata": {},
   "outputs": [
    {
     "data": {
      "text/plain": [
       "array([[1., 2.],\n",
       "       [3., 4.]])"
      ]
     },
     "execution_count": 31,
     "metadata": {},
     "output_type": "execute_result"
    }
   ],
   "source": [
    "np.dot(matrix1, matrix2) # Foram multiplicados por 1"
   ]
  },
  {
   "cell_type": "markdown",
   "id": "139c0082-d691-4e82-b3a3-0649ca68311a",
   "metadata": {},
   "source": [
    "<h1><b>Fim</h1>"
   ]
  }
 ],
 "metadata": {
  "kernelspec": {
   "display_name": "Python 3 (ipykernel)",
   "language": "python",
   "name": "python3"
  },
  "language_info": {
   "codemirror_mode": {
    "name": "ipython",
    "version": 3
   },
   "file_extension": ".py",
   "mimetype": "text/x-python",
   "name": "python",
   "nbconvert_exporter": "python",
   "pygments_lexer": "ipython3",
   "version": "3.12.4"
  }
 },
 "nbformat": 4,
 "nbformat_minor": 5
}

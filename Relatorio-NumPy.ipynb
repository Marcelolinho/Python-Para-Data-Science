{
 "cells": [
  {
   "cell_type": "markdown",
   "id": "9668c34e-058b-46d7-a50e-ac093e27380e",
   "metadata": {},
   "source": [
    "<h1>Relatório de NumPy</h1>\n",
    "<h3>Introdução</h3>"
   ]
  },
  {
   "cell_type": "markdown",
   "id": "eea841f6-4484-4f0a-b1ac-320733c9532c",
   "metadata": {},
   "source": [
    "- Biblioteca usada para **facilitar** o uso de dados numéricos em python\n",
    "- É compilada baseada na linguagem C, por isso é de rápida execução\n",
    "- Instalação:"
   ]
  },
  {
   "cell_type": "code",
   "execution_count": 1,
   "id": "e9bd2c6b-a1b7-4076-8f1d-2c93553234f0",
   "metadata": {},
   "outputs": [
    {
     "name": "stdout",
     "output_type": "stream",
     "text": [
      "Requirement already satisfied: numpy in c:\\users\\pichau\\appdata\\local\\programs\\python\\python312\\lib\\site-packages (2.0.0)\n",
      "Note: you may need to restart the kernel to use updated packages.\n"
     ]
    },
    {
     "name": "stderr",
     "output_type": "stream",
     "text": [
      "\n",
      "[notice] A new release of pip is available: 24.0 -> 24.2\n",
      "[notice] To update, run: python.exe -m pip install --upgrade pip\n"
     ]
    }
   ],
   "source": [
    "pip install numpy"
   ]
  },
  {
   "cell_type": "markdown",
   "id": "2b6f3640-dc6d-49dd-865b-601eec404e41",
   "metadata": {},
   "source": [
    "<h3>Numpy Arrays x Python Lists</h3>"
   ]
  },
  {
   "cell_type": "markdown",
   "id": "fbfb830b-1758-4799-8ac6-488f0fc5dcdf",
   "metadata": {},
   "source": [
    "- Python Lists\n",
    "    - Possui index\n",
    "    - É possível utilizar mais de um tipo de dado na **mesma** lista\n",
    "    - Utiliza Espaços separados na memória, sendo considerado um **map** e não um **array**\n",
    "- Numpy Arrays\n",
    "    - Possui index\n",
    "    - Apenas um tipo de dado por lista\n",
    "    - O espaço alocado na memória é **contínuo**, sendo considerado um array indexado"
   ]
  },
  {
   "cell_type": "code",
   "execution_count": 6,
   "id": "a7185c82-c351-49c1-ac76-888ceada5c38",
   "metadata": {},
   "outputs": [],
   "source": [
    "import numpy as np"
   ]
  },
  {
   "cell_type": "code",
   "execution_count": 11,
   "id": "0ce755a8-f2d5-4b3f-88d6-422dde588fa6",
   "metadata": {},
   "outputs": [
    {
     "name": "stdout",
     "output_type": "stream",
     "text": [
      "[1, 2, 3, 4, 5, 6, 7, 8, 9]\n"
     ]
    },
    {
     "data": {
      "text/plain": [
       "array([1, 2, 3, 4, 5, 6, 7, 8, 9])"
      ]
     },
     "execution_count": 11,
     "metadata": {},
     "output_type": "execute_result"
    }
   ],
   "source": [
    "# Criando lista em python\n",
    "python_list = [1, 2, 3, 4, 5, 6, 7, 8, 9]\n",
    "\n",
    "# Criando array em numpy\n",
    "arr = np.array([1, 2, 3, 4, 5, 6, 7, 8, 9])\n",
    "\n",
    "print(python_list)\n",
    "print(arr)"
   ]
  },
  {
   "cell_type": "markdown",
   "id": "ce4c9bde-1822-4f40-a727-c7b4f837fa54",
   "metadata": {},
   "source": [
    "<h3>Vetores e Matrizes</h3>"
   ]
  },
  {
   "cell_type": "markdown",
   "id": "7798a188-182a-4574-90dd-4d18afb5472c",
   "metadata": {},
   "source": [
    "- É possível montar **vetores** e **matrizes** com um numpy array"
   ]
  },
  {
   "cell_type": "code",
   "execution_count": 13,
   "id": "1a8f30b6-f9d6-471d-a96c-31314faa9524",
   "metadata": {},
   "outputs": [
    {
     "name": "stdout",
     "output_type": "stream",
     "text": [
      "[1 2 3 4 5]\n",
      "[[1 2 3]\n",
      " [4 5 6]\n",
      " [7 8 9]]\n"
     ]
    }
   ],
   "source": [
    "# Criando Vetor\n",
    "vetor = np.array([1, 2, 3, 4, 5])\n",
    "\n",
    "# Criando Matriz\n",
    "matrix = np.array([[1, 2, 3], [4, 5, 6], [7, 8, 9]])\n",
    "\n",
    "print(vetor)\n",
    "print(matrix)"
   ]
  },
  {
   "cell_type": "code",
   "execution_count": 15,
   "id": "2a162159-4ce9-48b1-b00a-225d4d6109d3",
   "metadata": {},
   "outputs": [
    {
     "data": {
      "text/plain": [
       "array([ 0,  2,  4,  6,  8, 10])"
      ]
     },
     "execution_count": 15,
     "metadata": {},
     "output_type": "execute_result"
    }
   ],
   "source": [
    "# Criando um array \"descartável\", tem um começo, um fim e um passo\n",
    "arranged = np.arange(0, 11, 2)\n",
    "arranged"
   ]
  },
  {
   "cell_type": "code",
   "execution_count": 16,
   "id": "88cc3f7a-9aee-43a7-9abc-048a34c3921b",
   "metadata": {},
   "outputs": [
    {
     "data": {
      "text/plain": [
       "(6,)"
      ]
     },
     "execution_count": 16,
     "metadata": {},
     "output_type": "execute_result"
    }
   ],
   "source": [
    "# Para saber o formato do array, se é uma matriz ou vetor\n",
    "vetor.shape\n",
    "matrix.shape\n",
    "arranged.shape"
   ]
  },
  {
   "cell_type": "code",
   "execution_count": 18,
   "id": "60000da1-023e-43ab-80eb-9c2b72f4d4b6",
   "metadata": {},
   "outputs": [
    {
     "data": {
      "text/plain": [
       "array([0., 0., 0.])"
      ]
     },
     "execution_count": 18,
     "metadata": {},
     "output_type": "execute_result"
    }
   ],
   "source": [
    "# Para criar array com apenas 0\n",
    "np.zeros(3)"
   ]
  },
  {
   "cell_type": "code",
   "execution_count": 19,
   "id": "ac1875f8-3936-46d9-bf08-d50ccb65f2c0",
   "metadata": {},
   "outputs": [
    {
     "data": {
      "text/plain": [
       "array([[0., 0.],\n",
       "       [0., 0.]])"
      ]
     },
     "execution_count": 19,
     "metadata": {},
     "output_type": "execute_result"
    }
   ],
   "source": [
    "# Também é possível criar matrizes com 0\n",
    "np.zeros((2, 2))"
   ]
  },
  {
   "cell_type": "code",
   "execution_count": 20,
   "id": "1941c668-0246-4568-b544-284addca49fc",
   "metadata": {},
   "outputs": [
    {
     "data": {
      "text/plain": [
       "array([1., 1., 1., 1., 1.])"
      ]
     },
     "execution_count": 20,
     "metadata": {},
     "output_type": "execute_result"
    }
   ],
   "source": [
    "# Para criar array com apenas 1\n",
    "np.ones(5)"
   ]
  },
  {
   "cell_type": "code",
   "execution_count": 21,
   "id": "1d50582c-fe59-40b2-b2d3-39c187671cc0",
   "metadata": {},
   "outputs": [
    {
     "data": {
      "text/plain": [
       "array([[1., 1., 1., 1., 1.],\n",
       "       [1., 1., 1., 1., 1.],\n",
       "       [1., 1., 1., 1., 1.],\n",
       "       [1., 1., 1., 1., 1.],\n",
       "       [1., 1., 1., 1., 1.]])"
      ]
     },
     "execution_count": 21,
     "metadata": {},
     "output_type": "execute_result"
    }
   ],
   "source": [
    "# Matrizes também são possíveis\n",
    "np.ones((5, 5))"
   ]
  },
  {
   "cell_type": "code",
   "execution_count": 22,
   "id": "b9754556-b5f7-4fbb-b65a-ad57cae62d41",
   "metadata": {},
   "outputs": [
    {
     "data": {
      "text/plain": [
       "array([[1., 0.],\n",
       "       [0., 1.]])"
      ]
     },
     "execution_count": 22,
     "metadata": {},
     "output_type": "execute_result"
    }
   ],
   "source": [
    "# Para criar uma matriz DIAGONAL\n",
    "np.eye(2)"
   ]
  },
  {
   "cell_type": "code",
   "execution_count": 23,
   "id": "92ced856-b6c2-46ac-807e-a3db01f70190",
   "metadata": {},
   "outputs": [
    {
     "data": {
      "text/plain": [
       "array([ 0. ,  2.2,  4.4,  6.6,  8.8, 11. ])"
      ]
     },
     "execution_count": 23,
     "metadata": {},
     "output_type": "execute_result"
    }
   ],
   "source": [
    "# O método linspace() é usado para criar um array com os números espaçados igualmente, sendo ditado quantas casas deseja visualizar\n",
    "np.linspace(0, 11, 6)"
   ]
  },
  {
   "cell_type": "markdown",
   "id": "9e0a183d-79c6-424f-bb0b-f18d752df2ae",
   "metadata": {},
   "source": [
    "<h3>Numpy Random</h3>"
   ]
  },
  {
   "cell_type": "markdown",
   "id": "a2d17531-8ed6-45b1-a68f-182677c9f51d",
   "metadata": {},
   "source": [
    "- Biblioteca do numpy criada com o objetivo de ser randômica, retornar números aleatórios em suas estruturas de dados\n",
    "- É separado em 3 **principais** categorias\n",
    "    - Random Generator\n",
    "    - Legacy Generator\n",
    "    - Bit Generator"
   ]
  },
  {
   "cell_type": "code",
   "execution_count": 26,
   "id": "b3d29236-00ac-439e-86bb-7f2057dbd3ed",
   "metadata": {},
   "outputs": [
    {
     "data": {
      "text/plain": [
       "array([0.8386351])"
      ]
     },
     "execution_count": 26,
     "metadata": {},
     "output_type": "execute_result"
    }
   ],
   "source": [
    "# Esse método retorna um array ou uma matriz com números aleatórios entre 0 e 1\n",
    "np.random.rand(1)"
   ]
  },
  {
   "cell_type": "code",
   "execution_count": 29,
   "id": "98d24207-b43d-4876-9ddb-241d31a186d0",
   "metadata": {},
   "outputs": [
    {
     "name": "stdout",
     "output_type": "stream",
     "text": [
      "0.0\n"
     ]
    }
   ],
   "source": []
  }
 ],
 "metadata": {
  "kernelspec": {
   "display_name": "Python 3 (ipykernel)",
   "language": "python",
   "name": "python3"
  },
  "language_info": {
   "codemirror_mode": {
    "name": "ipython",
    "version": 3
   },
   "file_extension": ".py",
   "mimetype": "text/x-python",
   "name": "python",
   "nbconvert_exporter": "python",
   "pygments_lexer": "ipython3",
   "version": "3.12.4"
  }
 },
 "nbformat": 4,
 "nbformat_minor": 5
}

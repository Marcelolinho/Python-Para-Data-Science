{
 "cells": [
  {
   "cell_type": "markdown",
   "id": "67eeaa6c-5969-473d-a1a3-c7f8c0b41611",
   "metadata": {},
   "source": [
    "<h1>Relatório de Pandas</h1>"
   ]
  },
  {
   "cell_type": "markdown",
   "id": "ede980a6-5770-43f1-a0da-c711c8d8f6d3",
   "metadata": {},
   "source": [
    "<h3>Introdução</h3>"
   ]
  },
  {
   "cell_type": "markdown",
   "id": "00933d67-6a00-4005-bb45-ba55bfde765f",
   "metadata": {},
   "source": [
    "- O pandas é uma biblioteca que facilita a visualização de dados\n",
    "- Facilita não só na rapidez mas também na limpeza dos mesmos\n",
    "- Baseada no EXCEL\n",
    "- Devirada do NumPy (por isso as dependencias)"
   ]
  },
  {
   "cell_type": "code",
   "execution_count": 1,
   "id": "9bbd48a8-744e-42af-803f-4d7868447f9e",
   "metadata": {},
   "outputs": [
    {
     "name": "stdout",
     "output_type": "stream",
     "text": [
      "Requirement already satisfied: pandas in c:\\users\\pichau\\appdata\\local\\programs\\python\\python312\\lib\\site-packages (2.2.2)Note: you may need to restart the kernel to use updated packages.\n",
      "\n",
      "Requirement already satisfied: numpy>=1.26.0 in c:\\users\\pichau\\appdata\\local\\programs\\python\\python312\\lib\\site-packages (from pandas) (2.0.0)\n",
      "Requirement already satisfied: python-dateutil>=2.8.2 in c:\\users\\pichau\\appdata\\local\\programs\\python\\python312\\lib\\site-packages (from pandas) (2.9.0.post0)\n",
      "Requirement already satisfied: pytz>=2020.1 in c:\\users\\pichau\\appdata\\local\\programs\\python\\python312\\lib\\site-packages (from pandas) (2024.1)\n",
      "Requirement already satisfied: tzdata>=2022.7 in c:\\users\\pichau\\appdata\\local\\programs\\python\\python312\\lib\\site-packages (from pandas) (2024.1)\n",
      "Requirement already satisfied: six>=1.5 in c:\\users\\pichau\\appdata\\local\\programs\\python\\python312\\lib\\site-packages (from python-dateutil>=2.8.2->pandas) (1.16.0)\n"
     ]
    },
    {
     "name": "stderr",
     "output_type": "stream",
     "text": [
      "\n",
      "[notice] A new release of pip is available: 24.0 -> 24.2\n",
      "[notice] To update, run: python.exe -m pip install --upgrade pip\n"
     ]
    }
   ],
   "source": [
    "pip install pandas"
   ]
  },
  {
   "cell_type": "code",
   "execution_count": 3,
   "id": "0fdb09e6-a56c-47ce-a91b-7473138bf510",
   "metadata": {},
   "outputs": [],
   "source": [
    "import numpy as np\n",
    "import pandas as pd"
   ]
  },
  {
   "cell_type": "markdown",
   "id": "0e96de16-c188-4549-8a51-c312e5b72adc",
   "metadata": {},
   "source": [
    "<h2>Series</h2>"
   ]
  },
  {
   "cell_type": "markdown",
   "id": "0b9d279e-2356-4232-805f-59ef98ea82f0",
   "metadata": {},
   "source": [
    "- Objeto da biblioteca\n",
    "- Transforma listas, numpy arrays, dicionários e tuplas em Series\n",
    "- Suporta qualquer tipo de dado (int, float, char, string, object)"
   ]
  },
  {
   "cell_type": "markdown",
   "id": "c057ccd7-57c5-49c1-82d9-e687e176fb23",
   "metadata": {},
   "source": [
    "<h3>Mas Porque Usar Series?</h3>"
   ]
  },
  {
   "cell_type": "markdown",
   "id": "72445d14-46bf-4743-a094-1908cd31e7ef",
   "metadata": {},
   "source": [
    "- Visualização facilitada dos dados\n",
    "- Operações aritméticas são mais simples\n",
    "- Possui índices que podem ser personalizados"
   ]
  },
  {
   "cell_type": "code",
   "execution_count": 4,
   "id": "f037dd66-25a0-49bc-8e74-84ba359efc29",
   "metadata": {},
   "outputs": [],
   "source": [
    "arr1 = np.array([10, 20, 30, 40])\n",
    "list1 = [10, 20, 30, 40]\n",
    "tuple1 = (10, 20, 30, 40)\n",
    "dict1 = {'a':10, 'b':20, 'c':30, 'd':40}"
   ]
  },
  {
   "cell_type": "code",
   "execution_count": 6,
   "id": "10dda160-b94d-4175-869d-8d7a9879ba9a",
   "metadata": {},
   "outputs": [
    {
     "data": {
      "text/plain": [
       "0    10\n",
       "1    20\n",
       "2    30\n",
       "3    40\n",
       "dtype: int64"
      ]
     },
     "execution_count": 6,
     "metadata": {},
     "output_type": "execute_result"
    }
   ],
   "source": [
    "pd.Series(arr1) # Neste exemplo passando apenas os dados"
   ]
  },
  {
   "cell_type": "code",
   "execution_count": 7,
   "id": "94abd5a0-0517-4fb1-b83a-9f8a4b703e11",
   "metadata": {},
   "outputs": [
    {
     "data": {
      "text/plain": [
       "a    10\n",
       "b    20\n",
       "c    30\n",
       "d    40\n",
       "dtype: int64"
      ]
     },
     "execution_count": 7,
     "metadata": {},
     "output_type": "execute_result"
    }
   ],
   "source": [
    "# Aqui criando os index customizados\n",
    "indices = ['a', 'b', 'c', 'd']\n",
    "pd.Series(arr1, indices)"
   ]
  },
  {
   "cell_type": "code",
   "execution_count": 10,
   "id": "8a5094e2-a130-43ff-8d3e-ebb165d7194a",
   "metadata": {},
   "outputs": [],
   "source": [
    "# Operações Aritméticas\n",
    "series1 = pd.Series(data=list1, index=indices)\n",
    "series2 = pd.Series(tuple1, index=indices)"
   ]
  },
  {
   "cell_type": "code",
   "execution_count": 11,
   "id": "be8ebfb7-7292-43ab-9374-675af38d7e27",
   "metadata": {},
   "outputs": [
    {
     "data": {
      "text/plain": [
       "a    20\n",
       "b    40\n",
       "c    60\n",
       "d    80\n",
       "dtype: int64"
      ]
     },
     "execution_count": 11,
     "metadata": {},
     "output_type": "execute_result"
    }
   ],
   "source": [
    "series1 + series2"
   ]
  },
  {
   "cell_type": "markdown",
   "id": "19a5c480-4f24-45ae-8873-c5f130912b00",
   "metadata": {},
   "source": [
    "- Nesse caso foi possível porque os índices e tipo de dados são <b>IGUAIS"
   ]
  },
  {
   "cell_type": "code",
   "execution_count": 12,
   "id": "159e5d81-2557-4ddd-845a-8b1a0c305c62",
   "metadata": {},
   "outputs": [],
   "source": [
    "series3 = pd.Series(data=list1, index=indices)\n",
    "series4 = pd.Series(tuple1)"
   ]
  },
  {
   "cell_type": "code",
   "execution_count": 13,
   "id": "8441b5e9-4e67-4c62-81d6-3280396d003c",
   "metadata": {},
   "outputs": [
    {
     "data": {
      "text/plain": [
       "a   NaN\n",
       "b   NaN\n",
       "c   NaN\n",
       "d   NaN\n",
       "0   NaN\n",
       "1   NaN\n",
       "2   NaN\n",
       "3   NaN\n",
       "dtype: float64"
      ]
     },
     "execution_count": 13,
     "metadata": {},
     "output_type": "execute_result"
    }
   ],
   "source": [
    "series3 + series4"
   ]
  },
  {
   "cell_type": "markdown",
   "id": "e977c7e9-6cae-4c0e-90cb-0773ff368077",
   "metadata": {},
   "source": [
    "- Não retorna erro, mas sim dados inválidos\n",
    "- Sempre se certificar dos índices e dos tipos (porque não é possível somar um inteiro com um array por exemplo)"
   ]
  },
  {
   "cell_type": "markdown",
   "id": "ba17663b-ccf2-4abb-9f37-56b1c135f45e",
   "metadata": {},
   "source": [
    "<h2>DataFrames</h2>"
   ]
  },
  {
   "cell_type": "markdown",
   "id": "9eef33f1-879d-4064-9ed1-f382cc8d19a4",
   "metadata": {},
   "source": [
    "- Objeto pricipal do pandas\n",
    "- Estruturado como uma tabela do EXCEL\n",
    "- Também pode ser comparado como uma tabela de um banco de dados relacional"
   ]
  },
  {
   "cell_type": "code",
   "execution_count": 14,
   "id": "40610756-1ae6-4d0e-9384-94af2da71e84",
   "metadata": {},
   "outputs": [],
   "source": [
    "df = pd.DataFrame(np.random.randn(4, 3), index='A B C D'.split(), columns='X Y Z'.split())"
   ]
  },
  {
   "cell_type": "code",
   "execution_count": 15,
   "id": "ae44edc7-7cdf-4bdf-bfc7-6eee7b03d440",
   "metadata": {},
   "outputs": [
    {
     "data": {
      "text/html": [
       "<div>\n",
       "<style scoped>\n",
       "    .dataframe tbody tr th:only-of-type {\n",
       "        vertical-align: middle;\n",
       "    }\n",
       "\n",
       "    .dataframe tbody tr th {\n",
       "        vertical-align: top;\n",
       "    }\n",
       "\n",
       "    .dataframe thead th {\n",
       "        text-align: right;\n",
       "    }\n",
       "</style>\n",
       "<table border=\"1\" class=\"dataframe\">\n",
       "  <thead>\n",
       "    <tr style=\"text-align: right;\">\n",
       "      <th></th>\n",
       "      <th>X</th>\n",
       "      <th>Y</th>\n",
       "      <th>Z</th>\n",
       "    </tr>\n",
       "  </thead>\n",
       "  <tbody>\n",
       "    <tr>\n",
       "      <th>A</th>\n",
       "      <td>0.071342</td>\n",
       "      <td>0.725760</td>\n",
       "      <td>-0.690330</td>\n",
       "    </tr>\n",
       "    <tr>\n",
       "      <th>B</th>\n",
       "      <td>-1.241318</td>\n",
       "      <td>-1.371638</td>\n",
       "      <td>-0.366401</td>\n",
       "    </tr>\n",
       "    <tr>\n",
       "      <th>C</th>\n",
       "      <td>1.622384</td>\n",
       "      <td>-1.774164</td>\n",
       "      <td>-0.567431</td>\n",
       "    </tr>\n",
       "    <tr>\n",
       "      <th>D</th>\n",
       "      <td>-0.828915</td>\n",
       "      <td>-1.016171</td>\n",
       "      <td>0.125807</td>\n",
       "    </tr>\n",
       "  </tbody>\n",
       "</table>\n",
       "</div>"
      ],
      "text/plain": [
       "          X         Y         Z\n",
       "A  0.071342  0.725760 -0.690330\n",
       "B -1.241318 -1.371638 -0.366401\n",
       "C  1.622384 -1.774164 -0.567431\n",
       "D -0.828915 -1.016171  0.125807"
      ]
     },
     "execution_count": 15,
     "metadata": {},
     "output_type": "execute_result"
    }
   ],
   "source": [
    "df"
   ]
  },
  {
   "cell_type": "markdown",
   "id": "cfb65045-ce22-4f2f-a65b-8a388160a78a",
   "metadata": {},
   "source": [
    "- Basicamente são passados os dados, caso precise os índices e as colunas\n",
    "- Como citado anteriormente, funcionamento parecido com Excel"
   ]
  },
  {
   "cell_type": "markdown",
   "id": "f68ab99e-d4ab-4f88-83ae-bb817d2473f1",
   "metadata": {},
   "source": [
    "<h3>Manipulando DataFrames</h3>"
   ]
  },
  {
   "cell_type": "markdown",
   "id": "7e0f1bd7-4962-428d-b390-305c941d0a9d",
   "metadata": {},
   "source": [
    "- Para adicionar nova coluna"
   ]
  },
  {
   "cell_type": "code",
   "execution_count": 16,
   "id": "75d2598e-1c54-4ba3-b8be-30415ade447f",
   "metadata": {},
   "outputs": [],
   "source": [
    "df['teste'] = df['X'] + df['Z']"
   ]
  },
  {
   "cell_type": "code",
   "execution_count": 17,
   "id": "ce54780c-63d3-44b9-831d-4e5b3c744691",
   "metadata": {},
   "outputs": [
    {
     "data": {
      "text/html": [
       "<div>\n",
       "<style scoped>\n",
       "    .dataframe tbody tr th:only-of-type {\n",
       "        vertical-align: middle;\n",
       "    }\n",
       "\n",
       "    .dataframe tbody tr th {\n",
       "        vertical-align: top;\n",
       "    }\n",
       "\n",
       "    .dataframe thead th {\n",
       "        text-align: right;\n",
       "    }\n",
       "</style>\n",
       "<table border=\"1\" class=\"dataframe\">\n",
       "  <thead>\n",
       "    <tr style=\"text-align: right;\">\n",
       "      <th></th>\n",
       "      <th>X</th>\n",
       "      <th>Y</th>\n",
       "      <th>Z</th>\n",
       "      <th>teste</th>\n",
       "    </tr>\n",
       "  </thead>\n",
       "  <tbody>\n",
       "    <tr>\n",
       "      <th>A</th>\n",
       "      <td>0.071342</td>\n",
       "      <td>0.725760</td>\n",
       "      <td>-0.690330</td>\n",
       "      <td>-0.618988</td>\n",
       "    </tr>\n",
       "    <tr>\n",
       "      <th>B</th>\n",
       "      <td>-1.241318</td>\n",
       "      <td>-1.371638</td>\n",
       "      <td>-0.366401</td>\n",
       "      <td>-1.607719</td>\n",
       "    </tr>\n",
       "    <tr>\n",
       "      <th>C</th>\n",
       "      <td>1.622384</td>\n",
       "      <td>-1.774164</td>\n",
       "      <td>-0.567431</td>\n",
       "      <td>1.054952</td>\n",
       "    </tr>\n",
       "    <tr>\n",
       "      <th>D</th>\n",
       "      <td>-0.828915</td>\n",
       "      <td>-1.016171</td>\n",
       "      <td>0.125807</td>\n",
       "      <td>-0.703108</td>\n",
       "    </tr>\n",
       "  </tbody>\n",
       "</table>\n",
       "</div>"
      ],
      "text/plain": [
       "          X         Y         Z     teste\n",
       "A  0.071342  0.725760 -0.690330 -0.618988\n",
       "B -1.241318 -1.371638 -0.366401 -1.607719\n",
       "C  1.622384 -1.774164 -0.567431  1.054952\n",
       "D -0.828915 -1.016171  0.125807 -0.703108"
      ]
     },
     "execution_count": 17,
     "metadata": {},
     "output_type": "execute_result"
    }
   ],
   "source": [
    "df"
   ]
  },
  {
   "cell_type": "code",
   "execution_count": 22,
   "id": "c6828f22-7598-45d6-8bc2-2370faabe7cc",
   "metadata": {},
   "outputs": [],
   "source": [
    "# Para excluir a coluna\n",
    "df.drop('teste', axis=1, inplace=True) # inplace=True define que a ação será feita na variável df, ou seja, a coluna irá desaparecer por completo!"
   ]
  },
  {
   "cell_type": "code",
   "execution_count": 24,
   "id": "9a649a2c-ad43-432c-8bad-67de2fe6c99e",
   "metadata": {},
   "outputs": [
    {
     "data": {
      "text/html": [
       "<div>\n",
       "<style scoped>\n",
       "    .dataframe tbody tr th:only-of-type {\n",
       "        vertical-align: middle;\n",
       "    }\n",
       "\n",
       "    .dataframe tbody tr th {\n",
       "        vertical-align: top;\n",
       "    }\n",
       "\n",
       "    .dataframe thead th {\n",
       "        text-align: right;\n",
       "    }\n",
       "</style>\n",
       "<table border=\"1\" class=\"dataframe\">\n",
       "  <thead>\n",
       "    <tr style=\"text-align: right;\">\n",
       "      <th></th>\n",
       "      <th>X</th>\n",
       "      <th>Y</th>\n",
       "      <th>Z</th>\n",
       "    </tr>\n",
       "  </thead>\n",
       "  <tbody>\n",
       "    <tr>\n",
       "      <th>A</th>\n",
       "      <td>0.071342</td>\n",
       "      <td>0.725760</td>\n",
       "      <td>-0.690330</td>\n",
       "    </tr>\n",
       "    <tr>\n",
       "      <th>B</th>\n",
       "      <td>-1.241318</td>\n",
       "      <td>-1.371638</td>\n",
       "      <td>-0.366401</td>\n",
       "    </tr>\n",
       "    <tr>\n",
       "      <th>C</th>\n",
       "      <td>1.622384</td>\n",
       "      <td>-1.774164</td>\n",
       "      <td>-0.567431</td>\n",
       "    </tr>\n",
       "    <tr>\n",
       "      <th>D</th>\n",
       "      <td>-0.828915</td>\n",
       "      <td>-1.016171</td>\n",
       "      <td>0.125807</td>\n",
       "    </tr>\n",
       "  </tbody>\n",
       "</table>\n",
       "</div>"
      ],
      "text/plain": [
       "          X         Y         Z\n",
       "A  0.071342  0.725760 -0.690330\n",
       "B -1.241318 -1.371638 -0.366401\n",
       "C  1.622384 -1.774164 -0.567431\n",
       "D -0.828915 -1.016171  0.125807"
      ]
     },
     "execution_count": 24,
     "metadata": {},
     "output_type": "execute_result"
    }
   ],
   "source": [
    "df"
   ]
  },
  {
   "cell_type": "markdown",
   "id": "b2d560bb-7852-419d-b4fc-00e2e87f4296",
   "metadata": {},
   "source": [
    "- Para localizar algum elemento do dataframe"
   ]
  },
  {
   "cell_type": "code",
   "execution_count": 25,
   "id": "60cea8b3-5772-40b0-9401-e95abdbeb776",
   "metadata": {},
   "outputs": [
    {
     "data": {
      "text/plain": [
       "np.float64(-1.241318346271395)"
      ]
     },
     "execution_count": 25,
     "metadata": {},
     "output_type": "execute_result"
    }
   ],
   "source": [
    "# Passar primeiro o índice, logo após a coluna\n",
    "df.loc['B', 'X']"
   ]
  },
  {
   "cell_type": "markdown",
   "id": "d0dc8072-fa79-4de3-9b17-3c1da06ce46d",
   "metadata": {},
   "source": [
    "- Para lozalizar uma linha inteira"
   ]
  },
  {
   "cell_type": "code",
   "execution_count": 27,
   "id": "bd0508aa-99ce-4d55-bef5-e48a4f420d87",
   "metadata": {},
   "outputs": [
    {
     "data": {
      "text/plain": [
       "X    0.071342\n",
       "Y    0.725760\n",
       "Z   -0.690330\n",
       "Name: A, dtype: float64"
      ]
     },
     "execution_count": 27,
     "metadata": {},
     "output_type": "execute_result"
    }
   ],
   "source": [
    "df.loc['A']"
   ]
  },
  {
   "cell_type": "markdown",
   "id": "65569b86-f770-4b7a-b18e-b601d3e49bed",
   "metadata": {},
   "source": [
    "- Também é possível localizar usando Slicing"
   ]
  },
  {
   "cell_type": "code",
   "execution_count": 28,
   "id": "3d39e687-389e-4818-a526-a3adac054c7d",
   "metadata": {},
   "outputs": [
    {
     "data": {
      "text/plain": [
       "A   -0.690330\n",
       "B   -0.366401\n",
       "Name: Z, dtype: float64"
      ]
     },
     "execution_count": 28,
     "metadata": {},
     "output_type": "execute_result"
    }
   ],
   "source": [
    "df.iloc[0:2, 2]"
   ]
  },
  {
   "cell_type": "markdown",
   "id": "1df0697e-3f37-45d1-adff-8a374c7b9011",
   "metadata": {},
   "source": [
    "<h2>Condicionais</h2>"
   ]
  },
  {
   "cell_type": "markdown",
   "id": "778c0e87-2501-4269-84ef-7c0c3df66b53",
   "metadata": {},
   "source": [
    "- Assim como objetos naturais python, é possível usar os operadores condicionais\n",
    "- Nesse caso, é retornado um DataFrame com cada coluna que a operação seja possível em formato booleano"
   ]
  },
  {
   "cell_type": "code",
   "execution_count": 29,
   "id": "3fb110f2-5b75-4c6a-b22e-c1bca218446c",
   "metadata": {},
   "outputs": [
    {
     "data": {
      "text/html": [
       "<div>\n",
       "<style scoped>\n",
       "    .dataframe tbody tr th:only-of-type {\n",
       "        vertical-align: middle;\n",
       "    }\n",
       "\n",
       "    .dataframe tbody tr th {\n",
       "        vertical-align: top;\n",
       "    }\n",
       "\n",
       "    .dataframe thead th {\n",
       "        text-align: right;\n",
       "    }\n",
       "</style>\n",
       "<table border=\"1\" class=\"dataframe\">\n",
       "  <thead>\n",
       "    <tr style=\"text-align: right;\">\n",
       "      <th></th>\n",
       "      <th>X</th>\n",
       "      <th>Y</th>\n",
       "      <th>Z</th>\n",
       "    </tr>\n",
       "  </thead>\n",
       "  <tbody>\n",
       "    <tr>\n",
       "      <th>A</th>\n",
       "      <td>False</td>\n",
       "      <td>True</td>\n",
       "      <td>False</td>\n",
       "    </tr>\n",
       "    <tr>\n",
       "      <th>B</th>\n",
       "      <td>False</td>\n",
       "      <td>False</td>\n",
       "      <td>False</td>\n",
       "    </tr>\n",
       "    <tr>\n",
       "      <th>C</th>\n",
       "      <td>True</td>\n",
       "      <td>False</td>\n",
       "      <td>False</td>\n",
       "    </tr>\n",
       "    <tr>\n",
       "      <th>D</th>\n",
       "      <td>False</td>\n",
       "      <td>False</td>\n",
       "      <td>False</td>\n",
       "    </tr>\n",
       "  </tbody>\n",
       "</table>\n",
       "</div>"
      ],
      "text/plain": [
       "       X      Y      Z\n",
       "A  False   True  False\n",
       "B  False  False  False\n",
       "C   True  False  False\n",
       "D  False  False  False"
      ]
     },
     "execution_count": 29,
     "metadata": {},
     "output_type": "execute_result"
    }
   ],
   "source": [
    "df > 0.2"
   ]
  },
  {
   "cell_type": "markdown",
   "id": "7672b376-bc06-4769-a533-bec0facedeb9",
   "metadata": {},
   "source": [
    "- Também é possível selecionar apenas uma coluna/linha do df"
   ]
  },
  {
   "cell_type": "code",
   "execution_count": 30,
   "id": "aa9401db-8fbe-4778-8be4-39470d168528",
   "metadata": {},
   "outputs": [
    {
     "data": {
      "text/plain": [
       "A    False\n",
       "B    False\n",
       "C     True\n",
       "D    False\n",
       "Name: X, dtype: bool"
      ]
     },
     "execution_count": 30,
     "metadata": {},
     "output_type": "execute_result"
    }
   ],
   "source": [
    "df['X'] > 0.2"
   ]
  },
  {
   "cell_type": "markdown",
   "id": "9e5a49a2-b55c-4261-8583-bc427b2b2cdb",
   "metadata": {},
   "source": [
    "- Usar operadores and ou or está errado\n",
    "- O certo é usar & e |"
   ]
  },
  {
   "cell_type": "code",
   "execution_count": 36,
   "id": "351821a8-bb88-47f1-b93a-d7ebbe74849d",
   "metadata": {},
   "outputs": [
    {
     "data": {
      "text/html": [
       "<div>\n",
       "<style scoped>\n",
       "    .dataframe tbody tr th:only-of-type {\n",
       "        vertical-align: middle;\n",
       "    }\n",
       "\n",
       "    .dataframe tbody tr th {\n",
       "        vertical-align: top;\n",
       "    }\n",
       "\n",
       "    .dataframe thead th {\n",
       "        text-align: right;\n",
       "    }\n",
       "</style>\n",
       "<table border=\"1\" class=\"dataframe\">\n",
       "  <thead>\n",
       "    <tr style=\"text-align: right;\">\n",
       "      <th></th>\n",
       "      <th>X</th>\n",
       "      <th>Y</th>\n",
       "      <th>Z</th>\n",
       "    </tr>\n",
       "  </thead>\n",
       "  <tbody>\n",
       "    <tr>\n",
       "      <th>C</th>\n",
       "      <td>1.622384</td>\n",
       "      <td>-1.774164</td>\n",
       "      <td>-0.567431</td>\n",
       "    </tr>\n",
       "  </tbody>\n",
       "</table>\n",
       "</div>"
      ],
      "text/plain": [
       "          X         Y         Z\n",
       "C  1.622384 -1.774164 -0.567431"
      ]
     },
     "execution_count": 36,
     "metadata": {},
     "output_type": "execute_result"
    }
   ],
   "source": [
    "df[(df['X'] > 0.2) & (df['Y'] < 0.5)]"
   ]
  },
  {
   "cell_type": "code",
   "execution_count": 37,
   "id": "656d0fdc-aca6-4828-aa48-8d9ec5449442",
   "metadata": {},
   "outputs": [
    {
     "data": {
      "text/html": [
       "<div>\n",
       "<style scoped>\n",
       "    .dataframe tbody tr th:only-of-type {\n",
       "        vertical-align: middle;\n",
       "    }\n",
       "\n",
       "    .dataframe tbody tr th {\n",
       "        vertical-align: top;\n",
       "    }\n",
       "\n",
       "    .dataframe thead th {\n",
       "        text-align: right;\n",
       "    }\n",
       "</style>\n",
       "<table border=\"1\" class=\"dataframe\">\n",
       "  <thead>\n",
       "    <tr style=\"text-align: right;\">\n",
       "      <th></th>\n",
       "      <th>X</th>\n",
       "      <th>Y</th>\n",
       "      <th>Z</th>\n",
       "    </tr>\n",
       "  </thead>\n",
       "  <tbody>\n",
       "    <tr>\n",
       "      <th>B</th>\n",
       "      <td>-1.241318</td>\n",
       "      <td>-1.371638</td>\n",
       "      <td>-0.366401</td>\n",
       "    </tr>\n",
       "    <tr>\n",
       "      <th>C</th>\n",
       "      <td>1.622384</td>\n",
       "      <td>-1.774164</td>\n",
       "      <td>-0.567431</td>\n",
       "    </tr>\n",
       "    <tr>\n",
       "      <th>D</th>\n",
       "      <td>-0.828915</td>\n",
       "      <td>-1.016171</td>\n",
       "      <td>0.125807</td>\n",
       "    </tr>\n",
       "  </tbody>\n",
       "</table>\n",
       "</div>"
      ],
      "text/plain": [
       "          X         Y         Z\n",
       "B -1.241318 -1.371638 -0.366401\n",
       "C  1.622384 -1.774164 -0.567431\n",
       "D -0.828915 -1.016171  0.125807"
      ]
     },
     "execution_count": 37,
     "metadata": {},
     "output_type": "execute_result"
    }
   ],
   "source": [
    "df[(df['X'] > 0.2) | (df['Y'] < 0.6)]"
   ]
  },
  {
   "cell_type": "markdown",
   "id": "713f22ae-8a58-4879-9255-2242c3313af4",
   "metadata": {},
   "source": [
    "- O método reset_index() transforma os índices customizados em uma coluna (se houver) e os novos começam em 0 e terminam em n (último item da lista)"
   ]
  },
  {
   "cell_type": "code",
   "execution_count": 38,
   "id": "aa5890db-aa2f-4bf7-bc48-378c319e7c95",
   "metadata": {},
   "outputs": [
    {
     "data": {
      "text/html": [
       "<div>\n",
       "<style scoped>\n",
       "    .dataframe tbody tr th:only-of-type {\n",
       "        vertical-align: middle;\n",
       "    }\n",
       "\n",
       "    .dataframe tbody tr th {\n",
       "        vertical-align: top;\n",
       "    }\n",
       "\n",
       "    .dataframe thead th {\n",
       "        text-align: right;\n",
       "    }\n",
       "</style>\n",
       "<table border=\"1\" class=\"dataframe\">\n",
       "  <thead>\n",
       "    <tr style=\"text-align: right;\">\n",
       "      <th></th>\n",
       "      <th>index</th>\n",
       "      <th>X</th>\n",
       "      <th>Y</th>\n",
       "      <th>Z</th>\n",
       "    </tr>\n",
       "  </thead>\n",
       "  <tbody>\n",
       "    <tr>\n",
       "      <th>0</th>\n",
       "      <td>A</td>\n",
       "      <td>0.071342</td>\n",
       "      <td>0.725760</td>\n",
       "      <td>-0.690330</td>\n",
       "    </tr>\n",
       "    <tr>\n",
       "      <th>1</th>\n",
       "      <td>B</td>\n",
       "      <td>-1.241318</td>\n",
       "      <td>-1.371638</td>\n",
       "      <td>-0.366401</td>\n",
       "    </tr>\n",
       "    <tr>\n",
       "      <th>2</th>\n",
       "      <td>C</td>\n",
       "      <td>1.622384</td>\n",
       "      <td>-1.774164</td>\n",
       "      <td>-0.567431</td>\n",
       "    </tr>\n",
       "    <tr>\n",
       "      <th>3</th>\n",
       "      <td>D</td>\n",
       "      <td>-0.828915</td>\n",
       "      <td>-1.016171</td>\n",
       "      <td>0.125807</td>\n",
       "    </tr>\n",
       "  </tbody>\n",
       "</table>\n",
       "</div>"
      ],
      "text/plain": [
       "  index         X         Y         Z\n",
       "0     A  0.071342  0.725760 -0.690330\n",
       "1     B -1.241318 -1.371638 -0.366401\n",
       "2     C  1.622384 -1.774164 -0.567431\n",
       "3     D -0.828915 -1.016171  0.125807"
      ]
     },
     "execution_count": 38,
     "metadata": {},
     "output_type": "execute_result"
    }
   ],
   "source": [
    "df.reset_index() # Não foi passado inplace=True então a alteração não foi salva na variável"
   ]
  },
  {
   "cell_type": "markdown",
   "id": "f8ec8fe7-067d-4fa9-870b-35100da94cca",
   "metadata": {},
   "source": [
    "- O método set_index() coloca colunas como índices"
   ]
  },
  {
   "cell_type": "code",
   "execution_count": 43,
   "id": "1b90ec16-d282-419b-a530-354420a9fcf6",
   "metadata": {},
   "outputs": [],
   "source": [
    "df['indices_teste'] = 'D C B A'.split()"
   ]
  },
  {
   "cell_type": "code",
   "execution_count": 44,
   "id": "342198eb-a8dd-4f0f-9234-c004ad31facb",
   "metadata": {},
   "outputs": [
    {
     "data": {
      "text/html": [
       "<div>\n",
       "<style scoped>\n",
       "    .dataframe tbody tr th:only-of-type {\n",
       "        vertical-align: middle;\n",
       "    }\n",
       "\n",
       "    .dataframe tbody tr th {\n",
       "        vertical-align: top;\n",
       "    }\n",
       "\n",
       "    .dataframe thead th {\n",
       "        text-align: right;\n",
       "    }\n",
       "</style>\n",
       "<table border=\"1\" class=\"dataframe\">\n",
       "  <thead>\n",
       "    <tr style=\"text-align: right;\">\n",
       "      <th></th>\n",
       "      <th>X</th>\n",
       "      <th>Y</th>\n",
       "      <th>Z</th>\n",
       "    </tr>\n",
       "    <tr>\n",
       "      <th>indices_teste</th>\n",
       "      <th></th>\n",
       "      <th></th>\n",
       "      <th></th>\n",
       "    </tr>\n",
       "  </thead>\n",
       "  <tbody>\n",
       "    <tr>\n",
       "      <th>D</th>\n",
       "      <td>0.071342</td>\n",
       "      <td>0.725760</td>\n",
       "      <td>-0.690330</td>\n",
       "    </tr>\n",
       "    <tr>\n",
       "      <th>C</th>\n",
       "      <td>-1.241318</td>\n",
       "      <td>-1.371638</td>\n",
       "      <td>-0.366401</td>\n",
       "    </tr>\n",
       "    <tr>\n",
       "      <th>B</th>\n",
       "      <td>1.622384</td>\n",
       "      <td>-1.774164</td>\n",
       "      <td>-0.567431</td>\n",
       "    </tr>\n",
       "    <tr>\n",
       "      <th>A</th>\n",
       "      <td>-0.828915</td>\n",
       "      <td>-1.016171</td>\n",
       "      <td>0.125807</td>\n",
       "    </tr>\n",
       "  </tbody>\n",
       "</table>\n",
       "</div>"
      ],
      "text/plain": [
       "                      X         Y         Z\n",
       "indices_teste                              \n",
       "D              0.071342  0.725760 -0.690330\n",
       "C             -1.241318 -1.371638 -0.366401\n",
       "B              1.622384 -1.774164 -0.567431\n",
       "A             -0.828915 -1.016171  0.125807"
      ]
     },
     "execution_count": 44,
     "metadata": {},
     "output_type": "execute_result"
    }
   ],
   "source": [
    "df.set_index('indices_teste')"
   ]
  },
  {
   "cell_type": "markdown",
   "id": "29b79633-9c61-43da-ba3e-8e721942f307",
   "metadata": {},
   "source": [
    "<h3>MultiIndex</h3>"
   ]
  },
  {
   "cell_type": "markdown",
   "id": "99f0e727-0d39-46ac-9c2b-c4e9178fb251",
   "metadata": {},
   "source": [
    "- Basicamente separa os índices em níveis, um bom exemplo pode ser o grupo que pertence e seu número de referência dentro dele\n",
    "- Muito usado no EXCEL"
   ]
  },
  {
   "cell_type": "code",
   "execution_count": 47,
   "id": "0a45d927-a654-4742-b8e0-90834fd311e8",
   "metadata": {},
   "outputs": [],
   "source": [
    "grupo = 'G1 G1 G1 G2 G2 G2'.split()\n",
    "indexes = [1, 2, 3, 1, 2, 3]\n",
    "lista_indices = list(zip(grupo, indexes))\n",
    "lista_indices = pd.MultiIndex.from_tuples(lista_indices)"
   ]
  },
  {
   "cell_type": "code",
   "execution_count": 48,
   "id": "d28ba16c-69da-4952-a340-bc11fec523f0",
   "metadata": {},
   "outputs": [],
   "source": [
    "df2 = pd.DataFrame(np.random.randn(6, 2), index=lista_indices)"
   ]
  },
  {
   "cell_type": "code",
   "execution_count": 49,
   "id": "d2c3101d-2579-412b-b2e5-2ac151a0381d",
   "metadata": {},
   "outputs": [
    {
     "data": {
      "text/html": [
       "<div>\n",
       "<style scoped>\n",
       "    .dataframe tbody tr th:only-of-type {\n",
       "        vertical-align: middle;\n",
       "    }\n",
       "\n",
       "    .dataframe tbody tr th {\n",
       "        vertical-align: top;\n",
       "    }\n",
       "\n",
       "    .dataframe thead th {\n",
       "        text-align: right;\n",
       "    }\n",
       "</style>\n",
       "<table border=\"1\" class=\"dataframe\">\n",
       "  <thead>\n",
       "    <tr style=\"text-align: right;\">\n",
       "      <th></th>\n",
       "      <th></th>\n",
       "      <th>0</th>\n",
       "      <th>1</th>\n",
       "    </tr>\n",
       "  </thead>\n",
       "  <tbody>\n",
       "    <tr>\n",
       "      <th rowspan=\"3\" valign=\"top\">G1</th>\n",
       "      <th>1</th>\n",
       "      <td>-0.434620</td>\n",
       "      <td>-0.221375</td>\n",
       "    </tr>\n",
       "    <tr>\n",
       "      <th>2</th>\n",
       "      <td>2.165013</td>\n",
       "      <td>0.896644</td>\n",
       "    </tr>\n",
       "    <tr>\n",
       "      <th>3</th>\n",
       "      <td>-1.334942</td>\n",
       "      <td>0.821659</td>\n",
       "    </tr>\n",
       "    <tr>\n",
       "      <th rowspan=\"3\" valign=\"top\">G2</th>\n",
       "      <th>1</th>\n",
       "      <td>-0.036853</td>\n",
       "      <td>0.434766</td>\n",
       "    </tr>\n",
       "    <tr>\n",
       "      <th>2</th>\n",
       "      <td>-0.082052</td>\n",
       "      <td>0.500869</td>\n",
       "    </tr>\n",
       "    <tr>\n",
       "      <th>3</th>\n",
       "      <td>-0.330845</td>\n",
       "      <td>1.609106</td>\n",
       "    </tr>\n",
       "  </tbody>\n",
       "</table>\n",
       "</div>"
      ],
      "text/plain": [
       "             0         1\n",
       "G1 1 -0.434620 -0.221375\n",
       "   2  2.165013  0.896644\n",
       "   3 -1.334942  0.821659\n",
       "G2 1 -0.036853  0.434766\n",
       "   2 -0.082052  0.500869\n",
       "   3 -0.330845  1.609106"
      ]
     },
     "execution_count": 49,
     "metadata": {},
     "output_type": "execute_result"
    }
   ],
   "source": [
    "df2"
   ]
  },
  {
   "cell_type": "code",
   "execution_count": 51,
   "id": "60486b99-d737-498e-9dbb-3e26a85d48fb",
   "metadata": {},
   "outputs": [],
   "source": [
    "df3 = pd.DataFrame(np.random.randn(6, 2))"
   ]
  },
  {
   "cell_type": "code",
   "execution_count": 54,
   "id": "a59edad3-a993-41fa-95c6-39adaa5329b9",
   "metadata": {},
   "outputs": [],
   "source": [
    "df3.set_index(lista_indices, inplace=True)"
   ]
  },
  {
   "cell_type": "code",
   "execution_count": 55,
   "id": "da963791-95ac-4232-81a8-668beb7615b9",
   "metadata": {},
   "outputs": [],
   "source": [
    "df3.index.names = ['Grupo', 'Número']"
   ]
  },
  {
   "cell_type": "code",
   "execution_count": 56,
   "id": "47e97f78-96e3-457d-9980-bc7cc7871a31",
   "metadata": {},
   "outputs": [
    {
     "data": {
      "text/html": [
       "<div>\n",
       "<style scoped>\n",
       "    .dataframe tbody tr th:only-of-type {\n",
       "        vertical-align: middle;\n",
       "    }\n",
       "\n",
       "    .dataframe tbody tr th {\n",
       "        vertical-align: top;\n",
       "    }\n",
       "\n",
       "    .dataframe thead th {\n",
       "        text-align: right;\n",
       "    }\n",
       "</style>\n",
       "<table border=\"1\" class=\"dataframe\">\n",
       "  <thead>\n",
       "    <tr style=\"text-align: right;\">\n",
       "      <th></th>\n",
       "      <th></th>\n",
       "      <th>0</th>\n",
       "      <th>1</th>\n",
       "    </tr>\n",
       "    <tr>\n",
       "      <th>Grupo</th>\n",
       "      <th>Número</th>\n",
       "      <th></th>\n",
       "      <th></th>\n",
       "    </tr>\n",
       "  </thead>\n",
       "  <tbody>\n",
       "    <tr>\n",
       "      <th rowspan=\"3\" valign=\"top\">G1</th>\n",
       "      <th>1</th>\n",
       "      <td>1.681837</td>\n",
       "      <td>-1.980224</td>\n",
       "    </tr>\n",
       "    <tr>\n",
       "      <th>2</th>\n",
       "      <td>0.694554</td>\n",
       "      <td>0.877061</td>\n",
       "    </tr>\n",
       "    <tr>\n",
       "      <th>3</th>\n",
       "      <td>-0.266108</td>\n",
       "      <td>0.564820</td>\n",
       "    </tr>\n",
       "    <tr>\n",
       "      <th rowspan=\"3\" valign=\"top\">G2</th>\n",
       "      <th>1</th>\n",
       "      <td>1.055935</td>\n",
       "      <td>0.802200</td>\n",
       "    </tr>\n",
       "    <tr>\n",
       "      <th>2</th>\n",
       "      <td>-1.249070</td>\n",
       "      <td>-0.984074</td>\n",
       "    </tr>\n",
       "    <tr>\n",
       "      <th>3</th>\n",
       "      <td>1.373624</td>\n",
       "      <td>0.864980</td>\n",
       "    </tr>\n",
       "  </tbody>\n",
       "</table>\n",
       "</div>"
      ],
      "text/plain": [
       "                     0         1\n",
       "Grupo Número                    \n",
       "G1    1       1.681837 -1.980224\n",
       "      2       0.694554  0.877061\n",
       "      3      -0.266108  0.564820\n",
       "G2    1       1.055935  0.802200\n",
       "      2      -1.249070 -0.984074\n",
       "      3       1.373624  0.864980"
      ]
     },
     "execution_count": 56,
     "metadata": {},
     "output_type": "execute_result"
    }
   ],
   "source": [
    "df3"
   ]
  },
  {
   "cell_type": "markdown",
   "id": "e72ea017-5962-4390-9116-30db62f52402",
   "metadata": {},
   "source": [
    "<h2>Dados Ausentes</h2>"
   ]
  },
  {
   "cell_type": "markdown",
   "id": "416f8db7-93e7-4b81-838f-c8b78b54f9ab",
   "metadata": {},
   "source": [
    "- É possível uma linha conter dados ausentes (null, NaN)\n",
    "- Principalmente quando são datasets pegos da internet\n",
    "- Para resolver isso o pandas possui uma série de métodos"
   ]
  },
  {
   "cell_type": "code",
   "execution_count": 57,
   "id": "1c52292e-e2f9-47c8-9b5e-670d2746d404",
   "metadata": {},
   "outputs": [],
   "source": [
    "# Criando dataframe de teste\n",
    "df4 = pd.DataFrame({'A':[1,2,np.nan],\n",
    "                  'B':[5,np.nan,np.nan],\n",
    "                  'C':[1,2,3]})"
   ]
  },
  {
   "cell_type": "code",
   "execution_count": 58,
   "id": "4e90e90c-d072-4cfe-8edb-591bf650f03e",
   "metadata": {},
   "outputs": [
    {
     "data": {
      "text/html": [
       "<div>\n",
       "<style scoped>\n",
       "    .dataframe tbody tr th:only-of-type {\n",
       "        vertical-align: middle;\n",
       "    }\n",
       "\n",
       "    .dataframe tbody tr th {\n",
       "        vertical-align: top;\n",
       "    }\n",
       "\n",
       "    .dataframe thead th {\n",
       "        text-align: right;\n",
       "    }\n",
       "</style>\n",
       "<table border=\"1\" class=\"dataframe\">\n",
       "  <thead>\n",
       "    <tr style=\"text-align: right;\">\n",
       "      <th></th>\n",
       "      <th>A</th>\n",
       "      <th>B</th>\n",
       "      <th>C</th>\n",
       "    </tr>\n",
       "  </thead>\n",
       "  <tbody>\n",
       "    <tr>\n",
       "      <th>0</th>\n",
       "      <td>1.0</td>\n",
       "      <td>5.0</td>\n",
       "      <td>1</td>\n",
       "    </tr>\n",
       "  </tbody>\n",
       "</table>\n",
       "</div>"
      ],
      "text/plain": [
       "     A    B  C\n",
       "0  1.0  5.0  1"
      ]
     },
     "execution_count": 58,
     "metadata": {},
     "output_type": "execute_result"
    }
   ],
   "source": [
    "# Para soltar as linhas com dados ausentes\n",
    "df4.dropna()"
   ]
  },
  {
   "cell_type": "code",
   "execution_count": 59,
   "id": "59c4cf7a-d1f9-42bc-8a4a-bfc6aead466c",
   "metadata": {},
   "outputs": [
    {
     "data": {
      "text/html": [
       "<div>\n",
       "<style scoped>\n",
       "    .dataframe tbody tr th:only-of-type {\n",
       "        vertical-align: middle;\n",
       "    }\n",
       "\n",
       "    .dataframe tbody tr th {\n",
       "        vertical-align: top;\n",
       "    }\n",
       "\n",
       "    .dataframe thead th {\n",
       "        text-align: right;\n",
       "    }\n",
       "</style>\n",
       "<table border=\"1\" class=\"dataframe\">\n",
       "  <thead>\n",
       "    <tr style=\"text-align: right;\">\n",
       "      <th></th>\n",
       "      <th>A</th>\n",
       "      <th>B</th>\n",
       "      <th>C</th>\n",
       "    </tr>\n",
       "  </thead>\n",
       "  <tbody>\n",
       "    <tr>\n",
       "      <th>0</th>\n",
       "      <td>1.0</td>\n",
       "      <td>5.0</td>\n",
       "      <td>1</td>\n",
       "    </tr>\n",
       "    <tr>\n",
       "      <th>1</th>\n",
       "      <td>2.0</td>\n",
       "      <td>1.0</td>\n",
       "      <td>2</td>\n",
       "    </tr>\n",
       "    <tr>\n",
       "      <th>2</th>\n",
       "      <td>1.0</td>\n",
       "      <td>1.0</td>\n",
       "      <td>3</td>\n",
       "    </tr>\n",
       "  </tbody>\n",
       "</table>\n",
       "</div>"
      ],
      "text/plain": [
       "     A    B  C\n",
       "0  1.0  5.0  1\n",
       "1  2.0  1.0  2\n",
       "2  1.0  1.0  3"
      ]
     },
     "execution_count": 59,
     "metadata": {},
     "output_type": "execute_result"
    }
   ],
   "source": [
    "# Para preencher os valores vazios\n",
    "df4.fillna(1)"
   ]
  },
  {
   "cell_type": "code",
   "execution_count": 61,
   "id": "e84c07e7-cb73-44b5-a3d3-c0d8579ad349",
   "metadata": {},
   "outputs": [
    {
     "data": {
      "text/html": [
       "<div>\n",
       "<style scoped>\n",
       "    .dataframe tbody tr th:only-of-type {\n",
       "        vertical-align: middle;\n",
       "    }\n",
       "\n",
       "    .dataframe tbody tr th {\n",
       "        vertical-align: top;\n",
       "    }\n",
       "\n",
       "    .dataframe thead th {\n",
       "        text-align: right;\n",
       "    }\n",
       "</style>\n",
       "<table border=\"1\" class=\"dataframe\">\n",
       "  <thead>\n",
       "    <tr style=\"text-align: right;\">\n",
       "      <th></th>\n",
       "      <th>A</th>\n",
       "      <th>B</th>\n",
       "      <th>C</th>\n",
       "    </tr>\n",
       "  </thead>\n",
       "  <tbody>\n",
       "    <tr>\n",
       "      <th>0</th>\n",
       "      <td>False</td>\n",
       "      <td>False</td>\n",
       "      <td>False</td>\n",
       "    </tr>\n",
       "    <tr>\n",
       "      <th>1</th>\n",
       "      <td>False</td>\n",
       "      <td>True</td>\n",
       "      <td>False</td>\n",
       "    </tr>\n",
       "    <tr>\n",
       "      <th>2</th>\n",
       "      <td>True</td>\n",
       "      <td>True</td>\n",
       "      <td>False</td>\n",
       "    </tr>\n",
       "  </tbody>\n",
       "</table>\n",
       "</div>"
      ],
      "text/plain": [
       "       A      B      C\n",
       "0  False  False  False\n",
       "1  False   True  False\n",
       "2   True   True  False"
      ]
     },
     "execution_count": 61,
     "metadata": {},
     "output_type": "execute_result"
    }
   ],
   "source": [
    "# Para saber os valores ausentes por linha\n",
    "df4.isna()"
   ]
  },
  {
   "cell_type": "code",
   "execution_count": 62,
   "id": "9c14ca75-9096-4c68-8d4d-119c7eca7d7e",
   "metadata": {},
   "outputs": [
    {
     "data": {
      "text/plain": [
       "A    1\n",
       "B    2\n",
       "C    0\n",
       "dtype: int64"
      ]
     },
     "execution_count": 62,
     "metadata": {},
     "output_type": "execute_result"
    }
   ],
   "source": [
    "# Para saber quantos valores ausentes por linha\n",
    "df4.isna().sum()"
   ]
  },
  {
   "cell_type": "markdown",
   "id": "75b53fda-10e5-4358-806f-99a2c2d6532d",
   "metadata": {},
   "source": [
    "<h3>GroupBy</h3>"
   ]
  },
  {
   "cell_type": "markdown",
   "id": "095fa275-b489-4c21-ac11-3f4b818cdcf2",
   "metadata": {},
   "source": [
    "- Basicamente seleciona as linhas de quantas colunas forem selecionadas\n",
    "- É possível realizar operações como\n",
    "    - Média\n",
    "    - Standard Deviation\n",
    "    - Count\n",
    "- Também é possível chamar o método describe() que mostra todas as operações"
   ]
  },
  {
   "cell_type": "code",
   "execution_count": 63,
   "id": "e79d5e94-217f-46ab-ad31-dbd977e26683",
   "metadata": {},
   "outputs": [],
   "source": [
    "dados = {'Empresa':['GOOG','GOOG','MSFT','MSFT','FB','FB'],\n",
    "       'Nome':['Sam','Charlie','Amy','Vanessa','Carl','Sarah'],\n",
    "       'Venda':[200,120,340,124,243,350]}\n",
    "\n",
    "df5 = pd.DataFrame(dados)"
   ]
  },
  {
   "cell_type": "code",
   "execution_count": 64,
   "id": "d5c6f03c-5d4c-4b49-9ad1-47f0d70b89c9",
   "metadata": {},
   "outputs": [
    {
     "data": {
      "text/plain": [
       "<pandas.core.groupby.generic.DataFrameGroupBy object at 0x000001D8489D38C0>"
      ]
     },
     "execution_count": 64,
     "metadata": {},
     "output_type": "execute_result"
    }
   ],
   "source": [
    "df5.groupby('Empresa')"
   ]
  },
  {
   "cell_type": "code",
   "execution_count": 65,
   "id": "e69b6758-912f-44d4-a1d1-ac46b4718021",
   "metadata": {},
   "outputs": [
    {
     "data": {
      "text/html": [
       "<div>\n",
       "<style scoped>\n",
       "    .dataframe tbody tr th:only-of-type {\n",
       "        vertical-align: middle;\n",
       "    }\n",
       "\n",
       "    .dataframe tbody tr th {\n",
       "        vertical-align: top;\n",
       "    }\n",
       "\n",
       "    .dataframe thead th {\n",
       "        text-align: right;\n",
       "    }\n",
       "</style>\n",
       "<table border=\"1\" class=\"dataframe\">\n",
       "  <thead>\n",
       "    <tr style=\"text-align: right;\">\n",
       "      <th></th>\n",
       "      <th>count</th>\n",
       "      <th>mean</th>\n",
       "      <th>std</th>\n",
       "      <th>min</th>\n",
       "      <th>25%</th>\n",
       "      <th>50%</th>\n",
       "      <th>75%</th>\n",
       "      <th>max</th>\n",
       "    </tr>\n",
       "  </thead>\n",
       "  <tbody>\n",
       "    <tr>\n",
       "      <th>Venda</th>\n",
       "      <td>6.0</td>\n",
       "      <td>229.5</td>\n",
       "      <td>100.899455</td>\n",
       "      <td>120.0</td>\n",
       "      <td>143.0</td>\n",
       "      <td>221.5</td>\n",
       "      <td>315.75</td>\n",
       "      <td>350.0</td>\n",
       "    </tr>\n",
       "  </tbody>\n",
       "</table>\n",
       "</div>"
      ],
      "text/plain": [
       "       count   mean         std    min    25%    50%     75%    max\n",
       "Venda    6.0  229.5  100.899455  120.0  143.0  221.5  315.75  350.0"
      ]
     },
     "execution_count": 65,
     "metadata": {},
     "output_type": "execute_result"
    }
   ],
   "source": [
    "df5.describe().transpose()"
   ]
  },
  {
   "cell_type": "markdown",
   "id": "1ffbf04e-c01f-430f-92ee-959650ef8b3e",
   "metadata": {},
   "source": [
    "- É importante lembrar que as operações ocorrem apenas em dados <b>NUMÉRICOS\n",
    "- Lembra o GROUPBY da linguagem SQL"
   ]
  },
  {
   "cell_type": "markdown",
   "id": "0feee192-f8cf-42f7-aca9-f955cd64a171",
   "metadata": {},
   "source": [
    "<h3>Joins, Concatenações e Mesclas</h3>"
   ]
  },
  {
   "cell_type": "markdown",
   "id": "2e69d385-9e28-497d-9940-67518b8953d7",
   "metadata": {},
   "source": [
    "- É possível fazer \"queries\" (buscas) dentro do Pandas DataFrame\n",
    "- Nelas você pode utilizar como a linguagem SQL, criando \"subqueries\" (buscas dentro de buscas)\n",
    "- A principal diferença é que no Pandas é possível juntar as tabelas, não só nas buscas, mas na sua estrutura como variável\n",
    "    - Por exemplo, tenho o df1 e df2, onde df3 é a junção, a mescla ou a concatenação de df1 com df2\n",
    "- Cada caso tem sua diferença\n",
    "- Concat\n",
    "    - Cola DataFrames\n",
    "    - Não importa o número de linhas e colunas"
   ]
  },
  {
   "cell_type": "code",
   "execution_count": 79,
   "id": "a63b8ecc-3616-49d9-b2ea-9beb2c5c0c1c",
   "metadata": {},
   "outputs": [],
   "source": [
    "concat1 = pd.DataFrame({'A': ['A0', 'A1', 'A2', 'A3'],\n",
    "                        'B': ['B0', 'B1', 'B2', 'B3'],\n",
    "                        'C': ['C0', 'C1', 'C2', 'C3'],\n",
    "                        'D': ['D0', 'D1', 'D2', 'D3']},\n",
    "                        index=[0, 1, 2, 3])\n",
    "\n",
    "concat2 = pd.DataFrame({'A': ['A4', 'A5', 'A6', 'A7'],\n",
    "                        'B': ['B4', 'B5', 'B6', 'B7'],\n",
    "                        'C': ['C4', 'C5', 'C6', 'C7'],\n",
    "                        'D': ['D4', 'D5', 'D6', 'D7']},\n",
    "                         index=[4, 5, 6, 7]) "
   ]
  },
  {
   "cell_type": "code",
   "execution_count": 80,
   "id": "c460678d-efd5-4490-868f-80267322d11d",
   "metadata": {},
   "outputs": [],
   "source": [
    "concat3 = pd.concat([concat1, concat2])"
   ]
  },
  {
   "cell_type": "code",
   "execution_count": 81,
   "id": "d6434e32-0cea-42fe-a84d-dc23d7457697",
   "metadata": {},
   "outputs": [
    {
     "data": {
      "text/html": [
       "<div>\n",
       "<style scoped>\n",
       "    .dataframe tbody tr th:only-of-type {\n",
       "        vertical-align: middle;\n",
       "    }\n",
       "\n",
       "    .dataframe tbody tr th {\n",
       "        vertical-align: top;\n",
       "    }\n",
       "\n",
       "    .dataframe thead th {\n",
       "        text-align: right;\n",
       "    }\n",
       "</style>\n",
       "<table border=\"1\" class=\"dataframe\">\n",
       "  <thead>\n",
       "    <tr style=\"text-align: right;\">\n",
       "      <th></th>\n",
       "      <th>A</th>\n",
       "      <th>B</th>\n",
       "      <th>C</th>\n",
       "      <th>D</th>\n",
       "    </tr>\n",
       "  </thead>\n",
       "  <tbody>\n",
       "    <tr>\n",
       "      <th>0</th>\n",
       "      <td>A0</td>\n",
       "      <td>B0</td>\n",
       "      <td>C0</td>\n",
       "      <td>D0</td>\n",
       "    </tr>\n",
       "    <tr>\n",
       "      <th>1</th>\n",
       "      <td>A1</td>\n",
       "      <td>B1</td>\n",
       "      <td>C1</td>\n",
       "      <td>D1</td>\n",
       "    </tr>\n",
       "    <tr>\n",
       "      <th>2</th>\n",
       "      <td>A2</td>\n",
       "      <td>B2</td>\n",
       "      <td>C2</td>\n",
       "      <td>D2</td>\n",
       "    </tr>\n",
       "    <tr>\n",
       "      <th>3</th>\n",
       "      <td>A3</td>\n",
       "      <td>B3</td>\n",
       "      <td>C3</td>\n",
       "      <td>D3</td>\n",
       "    </tr>\n",
       "    <tr>\n",
       "      <th>4</th>\n",
       "      <td>A4</td>\n",
       "      <td>B4</td>\n",
       "      <td>C4</td>\n",
       "      <td>D4</td>\n",
       "    </tr>\n",
       "    <tr>\n",
       "      <th>5</th>\n",
       "      <td>A5</td>\n",
       "      <td>B5</td>\n",
       "      <td>C5</td>\n",
       "      <td>D5</td>\n",
       "    </tr>\n",
       "    <tr>\n",
       "      <th>6</th>\n",
       "      <td>A6</td>\n",
       "      <td>B6</td>\n",
       "      <td>C6</td>\n",
       "      <td>D6</td>\n",
       "    </tr>\n",
       "    <tr>\n",
       "      <th>7</th>\n",
       "      <td>A7</td>\n",
       "      <td>B7</td>\n",
       "      <td>C7</td>\n",
       "      <td>D7</td>\n",
       "    </tr>\n",
       "  </tbody>\n",
       "</table>\n",
       "</div>"
      ],
      "text/plain": [
       "    A   B   C   D\n",
       "0  A0  B0  C0  D0\n",
       "1  A1  B1  C1  D1\n",
       "2  A2  B2  C2  D2\n",
       "3  A3  B3  C3  D3\n",
       "4  A4  B4  C4  D4\n",
       "5  A5  B5  C5  D5\n",
       "6  A6  B6  C6  D6\n",
       "7  A7  B7  C7  D7"
      ]
     },
     "execution_count": 81,
     "metadata": {},
     "output_type": "execute_result"
    }
   ],
   "source": [
    "concat3"
   ]
  },
  {
   "cell_type": "markdown",
   "id": "d4d3a93d-38b0-4d7f-8264-d23b1607934e",
   "metadata": {},
   "source": [
    "- Merge\n",
    "    - Combina DataFrames com base nas suas linhas e colunas\n",
    "    - Inner, Outer, Left, Right"
   ]
  },
  {
   "cell_type": "code",
   "execution_count": 83,
   "id": "d7ef5455-8705-4e7b-a2c2-87beb79af6e6",
   "metadata": {},
   "outputs": [],
   "source": [
    "merge1 = pd.DataFrame({'key': ['K0', 'K1', 'K2', 'K3'],\n",
    "                     'A': ['A0', 'A1', 'A2', 'A3'],\n",
    "                     'B': ['B0', 'B1', 'B2', 'B3']})\n",
    "\n",
    "merge2 = pd.DataFrame({'key': ['K0', 'K1', 'K2', 'K3'],\n",
    "                          'C': ['C0', 'C1', 'C2', 'C3'],\n",
    "                          'D': ['D0', 'D1', 'D2', 'D3']})"
   ]
  },
  {
   "cell_type": "code",
   "execution_count": 90,
   "id": "aced24b0-89f6-4fc3-b9c4-eba70fcf8591",
   "metadata": {},
   "outputs": [],
   "source": [
    "merge3 = pd.merge(merge1, merge2, how='outer')"
   ]
  },
  {
   "cell_type": "code",
   "execution_count": 91,
   "id": "46639f82-ce68-4151-9276-e7935532217d",
   "metadata": {},
   "outputs": [
    {
     "data": {
      "text/html": [
       "<div>\n",
       "<style scoped>\n",
       "    .dataframe tbody tr th:only-of-type {\n",
       "        vertical-align: middle;\n",
       "    }\n",
       "\n",
       "    .dataframe tbody tr th {\n",
       "        vertical-align: top;\n",
       "    }\n",
       "\n",
       "    .dataframe thead th {\n",
       "        text-align: right;\n",
       "    }\n",
       "</style>\n",
       "<table border=\"1\" class=\"dataframe\">\n",
       "  <thead>\n",
       "    <tr style=\"text-align: right;\">\n",
       "      <th></th>\n",
       "      <th>key</th>\n",
       "      <th>A</th>\n",
       "      <th>B</th>\n",
       "      <th>C</th>\n",
       "      <th>D</th>\n",
       "    </tr>\n",
       "  </thead>\n",
       "  <tbody>\n",
       "    <tr>\n",
       "      <th>0</th>\n",
       "      <td>K0</td>\n",
       "      <td>A0</td>\n",
       "      <td>B0</td>\n",
       "      <td>C0</td>\n",
       "      <td>D0</td>\n",
       "    </tr>\n",
       "    <tr>\n",
       "      <th>1</th>\n",
       "      <td>K1</td>\n",
       "      <td>A1</td>\n",
       "      <td>B1</td>\n",
       "      <td>C1</td>\n",
       "      <td>D1</td>\n",
       "    </tr>\n",
       "    <tr>\n",
       "      <th>2</th>\n",
       "      <td>K2</td>\n",
       "      <td>A2</td>\n",
       "      <td>B2</td>\n",
       "      <td>C2</td>\n",
       "      <td>D2</td>\n",
       "    </tr>\n",
       "    <tr>\n",
       "      <th>3</th>\n",
       "      <td>K3</td>\n",
       "      <td>A3</td>\n",
       "      <td>B3</td>\n",
       "      <td>C3</td>\n",
       "      <td>D3</td>\n",
       "    </tr>\n",
       "  </tbody>\n",
       "</table>\n",
       "</div>"
      ],
      "text/plain": [
       "  key   A   B   C   D\n",
       "0  K0  A0  B0  C0  D0\n",
       "1  K1  A1  B1  C1  D1\n",
       "2  K2  A2  B2  C2  D2\n",
       "3  K3  A3  B3  C3  D3"
      ]
     },
     "execution_count": 91,
     "metadata": {},
     "output_type": "execute_result"
    }
   ],
   "source": [
    "merge3"
   ]
  },
  {
   "cell_type": "code",
   "execution_count": 92,
   "id": "3806cafa-7d66-4f2e-8ac9-7f6dade65502",
   "metadata": {},
   "outputs": [
    {
     "data": {
      "text/html": [
       "<div>\n",
       "<style scoped>\n",
       "    .dataframe tbody tr th:only-of-type {\n",
       "        vertical-align: middle;\n",
       "    }\n",
       "\n",
       "    .dataframe tbody tr th {\n",
       "        vertical-align: top;\n",
       "    }\n",
       "\n",
       "    .dataframe thead th {\n",
       "        text-align: right;\n",
       "    }\n",
       "</style>\n",
       "<table border=\"1\" class=\"dataframe\">\n",
       "  <thead>\n",
       "    <tr style=\"text-align: right;\">\n",
       "      <th></th>\n",
       "      <th>key</th>\n",
       "      <th>A</th>\n",
       "      <th>B</th>\n",
       "      <th>C</th>\n",
       "      <th>D</th>\n",
       "    </tr>\n",
       "  </thead>\n",
       "  <tbody>\n",
       "    <tr>\n",
       "      <th>0</th>\n",
       "      <td>K0</td>\n",
       "      <td>A0</td>\n",
       "      <td>B0</td>\n",
       "      <td>C0</td>\n",
       "      <td>D0</td>\n",
       "    </tr>\n",
       "    <tr>\n",
       "      <th>1</th>\n",
       "      <td>K1</td>\n",
       "      <td>A1</td>\n",
       "      <td>B1</td>\n",
       "      <td>C1</td>\n",
       "      <td>D1</td>\n",
       "    </tr>\n",
       "    <tr>\n",
       "      <th>2</th>\n",
       "      <td>K2</td>\n",
       "      <td>A2</td>\n",
       "      <td>B2</td>\n",
       "      <td>C2</td>\n",
       "      <td>D2</td>\n",
       "    </tr>\n",
       "    <tr>\n",
       "      <th>3</th>\n",
       "      <td>K3</td>\n",
       "      <td>A3</td>\n",
       "      <td>B3</td>\n",
       "      <td>C3</td>\n",
       "      <td>D3</td>\n",
       "    </tr>\n",
       "  </tbody>\n",
       "</table>\n",
       "</div>"
      ],
      "text/plain": [
       "  key   A   B   C   D\n",
       "0  K0  A0  B0  C0  D0\n",
       "1  K1  A1  B1  C1  D1\n",
       "2  K2  A2  B2  C2  D2\n",
       "3  K3  A3  B3  C3  D3"
      ]
     },
     "execution_count": 92,
     "metadata": {},
     "output_type": "execute_result"
    }
   ],
   "source": [
    "pd.merge(merge1, merge2, how='left')"
   ]
  },
  {
   "cell_type": "code",
   "execution_count": 93,
   "id": "52d72152-e540-44dd-ba86-9e063fc647bc",
   "metadata": {},
   "outputs": [
    {
     "data": {
      "text/html": [
       "<div>\n",
       "<style scoped>\n",
       "    .dataframe tbody tr th:only-of-type {\n",
       "        vertical-align: middle;\n",
       "    }\n",
       "\n",
       "    .dataframe tbody tr th {\n",
       "        vertical-align: top;\n",
       "    }\n",
       "\n",
       "    .dataframe thead th {\n",
       "        text-align: right;\n",
       "    }\n",
       "</style>\n",
       "<table border=\"1\" class=\"dataframe\">\n",
       "  <thead>\n",
       "    <tr style=\"text-align: right;\">\n",
       "      <th></th>\n",
       "      <th>key</th>\n",
       "      <th>A</th>\n",
       "      <th>B</th>\n",
       "      <th>C</th>\n",
       "      <th>D</th>\n",
       "    </tr>\n",
       "  </thead>\n",
       "  <tbody>\n",
       "    <tr>\n",
       "      <th>0</th>\n",
       "      <td>K0</td>\n",
       "      <td>A0</td>\n",
       "      <td>B0</td>\n",
       "      <td>C0</td>\n",
       "      <td>D0</td>\n",
       "    </tr>\n",
       "    <tr>\n",
       "      <th>1</th>\n",
       "      <td>K1</td>\n",
       "      <td>A1</td>\n",
       "      <td>B1</td>\n",
       "      <td>C1</td>\n",
       "      <td>D1</td>\n",
       "    </tr>\n",
       "    <tr>\n",
       "      <th>2</th>\n",
       "      <td>K2</td>\n",
       "      <td>A2</td>\n",
       "      <td>B2</td>\n",
       "      <td>C2</td>\n",
       "      <td>D2</td>\n",
       "    </tr>\n",
       "    <tr>\n",
       "      <th>3</th>\n",
       "      <td>K3</td>\n",
       "      <td>A3</td>\n",
       "      <td>B3</td>\n",
       "      <td>C3</td>\n",
       "      <td>D3</td>\n",
       "    </tr>\n",
       "  </tbody>\n",
       "</table>\n",
       "</div>"
      ],
      "text/plain": [
       "  key   A   B   C   D\n",
       "0  K0  A0  B0  C0  D0\n",
       "1  K1  A1  B1  C1  D1\n",
       "2  K2  A2  B2  C2  D2\n",
       "3  K3  A3  B3  C3  D3"
      ]
     },
     "execution_count": 93,
     "metadata": {},
     "output_type": "execute_result"
    }
   ],
   "source": [
    "pd.merge(merge1, merge2, how='right')"
   ]
  },
  {
   "cell_type": "code",
   "execution_count": 94,
   "id": "9abd08d4-518f-48cd-8aed-5a04653824f3",
   "metadata": {},
   "outputs": [
    {
     "data": {
      "text/html": [
       "<div>\n",
       "<style scoped>\n",
       "    .dataframe tbody tr th:only-of-type {\n",
       "        vertical-align: middle;\n",
       "    }\n",
       "\n",
       "    .dataframe tbody tr th {\n",
       "        vertical-align: top;\n",
       "    }\n",
       "\n",
       "    .dataframe thead th {\n",
       "        text-align: right;\n",
       "    }\n",
       "</style>\n",
       "<table border=\"1\" class=\"dataframe\">\n",
       "  <thead>\n",
       "    <tr style=\"text-align: right;\">\n",
       "      <th></th>\n",
       "      <th>key</th>\n",
       "      <th>A</th>\n",
       "      <th>B</th>\n",
       "      <th>C</th>\n",
       "      <th>D</th>\n",
       "    </tr>\n",
       "  </thead>\n",
       "  <tbody>\n",
       "    <tr>\n",
       "      <th>0</th>\n",
       "      <td>K0</td>\n",
       "      <td>A0</td>\n",
       "      <td>B0</td>\n",
       "      <td>C0</td>\n",
       "      <td>D0</td>\n",
       "    </tr>\n",
       "    <tr>\n",
       "      <th>1</th>\n",
       "      <td>K1</td>\n",
       "      <td>A1</td>\n",
       "      <td>B1</td>\n",
       "      <td>C1</td>\n",
       "      <td>D1</td>\n",
       "    </tr>\n",
       "    <tr>\n",
       "      <th>2</th>\n",
       "      <td>K2</td>\n",
       "      <td>A2</td>\n",
       "      <td>B2</td>\n",
       "      <td>C2</td>\n",
       "      <td>D2</td>\n",
       "    </tr>\n",
       "    <tr>\n",
       "      <th>3</th>\n",
       "      <td>K3</td>\n",
       "      <td>A3</td>\n",
       "      <td>B3</td>\n",
       "      <td>C3</td>\n",
       "      <td>D3</td>\n",
       "    </tr>\n",
       "  </tbody>\n",
       "</table>\n",
       "</div>"
      ],
      "text/plain": [
       "  key   A   B   C   D\n",
       "0  K0  A0  B0  C0  D0\n",
       "1  K1  A1  B1  C1  D1\n",
       "2  K2  A2  B2  C2  D2\n",
       "3  K3  A3  B3  C3  D3"
      ]
     },
     "execution_count": 94,
     "metadata": {},
     "output_type": "execute_result"
    }
   ],
   "source": [
    "pd.merge(merge1, merge2, how='inner')"
   ]
  },
  {
   "cell_type": "markdown",
   "id": "5080e156-276a-430a-80ad-06f88c14711a",
   "metadata": {},
   "source": [
    "- Join\n",
    "    - Junta DataFrames indexados de maneira diferente\n",
    "    - Inner, Outer, Left, Right"
   ]
  },
  {
   "cell_type": "code",
   "execution_count": 96,
   "id": "d71bf49c-102d-4c3e-b477-dce48720498e",
   "metadata": {},
   "outputs": [],
   "source": [
    "join1 = pd.DataFrame({'A': ['A0', 'A1', 'A2'],\n",
    "                     'B': ['B0', 'B1', 'B2']},\n",
    "                      index=['K0', 'K1', 'K2'])\n",
    "\n",
    "join2 = pd.DataFrame({'C': ['C0', 'C2', 'C3'],\n",
    "                    'D': ['D0', 'D2', 'D3']},\n",
    "                      index=['K0', 'K2', 'K3'])"
   ]
  },
  {
   "cell_type": "code",
   "execution_count": 97,
   "id": "ed155bd4-a710-46da-88b2-a7ea3bab4cb1",
   "metadata": {},
   "outputs": [
    {
     "data": {
      "text/html": [
       "<div>\n",
       "<style scoped>\n",
       "    .dataframe tbody tr th:only-of-type {\n",
       "        vertical-align: middle;\n",
       "    }\n",
       "\n",
       "    .dataframe tbody tr th {\n",
       "        vertical-align: top;\n",
       "    }\n",
       "\n",
       "    .dataframe thead th {\n",
       "        text-align: right;\n",
       "    }\n",
       "</style>\n",
       "<table border=\"1\" class=\"dataframe\">\n",
       "  <thead>\n",
       "    <tr style=\"text-align: right;\">\n",
       "      <th></th>\n",
       "      <th>A</th>\n",
       "      <th>B</th>\n",
       "      <th>C</th>\n",
       "      <th>D</th>\n",
       "    </tr>\n",
       "  </thead>\n",
       "  <tbody>\n",
       "    <tr>\n",
       "      <th>K0</th>\n",
       "      <td>A0</td>\n",
       "      <td>B0</td>\n",
       "      <td>C0</td>\n",
       "      <td>D0</td>\n",
       "    </tr>\n",
       "    <tr>\n",
       "      <th>K1</th>\n",
       "      <td>A1</td>\n",
       "      <td>B1</td>\n",
       "      <td>NaN</td>\n",
       "      <td>NaN</td>\n",
       "    </tr>\n",
       "    <tr>\n",
       "      <th>K2</th>\n",
       "      <td>A2</td>\n",
       "      <td>B2</td>\n",
       "      <td>C2</td>\n",
       "      <td>D2</td>\n",
       "    </tr>\n",
       "  </tbody>\n",
       "</table>\n",
       "</div>"
      ],
      "text/plain": [
       "     A   B    C    D\n",
       "K0  A0  B0   C0   D0\n",
       "K1  A1  B1  NaN  NaN\n",
       "K2  A2  B2   C2   D2"
      ]
     },
     "execution_count": 97,
     "metadata": {},
     "output_type": "execute_result"
    }
   ],
   "source": [
    "join1.join(join2)"
   ]
  },
  {
   "cell_type": "markdown",
   "id": "70441d4a-9e33-4ee2-8ff2-40b536fe9fd5",
   "metadata": {},
   "source": [
    "<h2>Lendo Datasets em DataFrames</h2>"
   ]
  },
  {
   "cell_type": "markdown",
   "id": "1130872e-6662-4f45-b2b2-24feeec3c1a7",
   "metadata": {},
   "source": [
    "- Como dito anteriormente, sua estrutura se assemelha à tabela excel\n",
    "- Ou seja, é possível ler arquivos CSV, XLS e XLSX\n",
    "- Ler arquivos HTML também é possível"
   ]
  },
  {
   "cell_type": "code",
   "execution_count": 108,
   "id": "f35499c3-08bd-4776-8fc9-8f707d3eb2c5",
   "metadata": {},
   "outputs": [],
   "source": [
    "df_final = pd.read_csv('./datasets/exemplo.csv', sep=',')"
   ]
  },
  {
   "cell_type": "code",
   "execution_count": 109,
   "id": "c991ddc0-27df-42f1-862f-81fca3e4d552",
   "metadata": {},
   "outputs": [
    {
     "data": {
      "text/html": [
       "<div>\n",
       "<style scoped>\n",
       "    .dataframe tbody tr th:only-of-type {\n",
       "        vertical-align: middle;\n",
       "    }\n",
       "\n",
       "    .dataframe tbody tr th {\n",
       "        vertical-align: top;\n",
       "    }\n",
       "\n",
       "    .dataframe thead th {\n",
       "        text-align: right;\n",
       "    }\n",
       "</style>\n",
       "<table border=\"1\" class=\"dataframe\">\n",
       "  <thead>\n",
       "    <tr style=\"text-align: right;\">\n",
       "      <th></th>\n",
       "      <th>Unnamed: 0</th>\n",
       "      <th>a</th>\n",
       "      <th>b</th>\n",
       "      <th>c</th>\n",
       "      <th>d</th>\n",
       "    </tr>\n",
       "  </thead>\n",
       "  <tbody>\n",
       "    <tr>\n",
       "      <th>0</th>\n",
       "      <td>0</td>\n",
       "      <td>0</td>\n",
       "      <td>1</td>\n",
       "      <td>2</td>\n",
       "      <td>3</td>\n",
       "    </tr>\n",
       "    <tr>\n",
       "      <th>1</th>\n",
       "      <td>1</td>\n",
       "      <td>4</td>\n",
       "      <td>5</td>\n",
       "      <td>6</td>\n",
       "      <td>7</td>\n",
       "    </tr>\n",
       "    <tr>\n",
       "      <th>2</th>\n",
       "      <td>2</td>\n",
       "      <td>8</td>\n",
       "      <td>9</td>\n",
       "      <td>10</td>\n",
       "      <td>11</td>\n",
       "    </tr>\n",
       "    <tr>\n",
       "      <th>3</th>\n",
       "      <td>3</td>\n",
       "      <td>12</td>\n",
       "      <td>13</td>\n",
       "      <td>14</td>\n",
       "      <td>15</td>\n",
       "    </tr>\n",
       "  </tbody>\n",
       "</table>\n",
       "</div>"
      ],
      "text/plain": [
       "   Unnamed: 0   a   b   c   d\n",
       "0           0   0   1   2   3\n",
       "1           1   4   5   6   7\n",
       "2           2   8   9  10  11\n",
       "3           3  12  13  14  15"
      ]
     },
     "execution_count": 109,
     "metadata": {},
     "output_type": "execute_result"
    }
   ],
   "source": [
    "df_final.head()"
   ]
  },
  {
   "cell_type": "markdown",
   "id": "08b920f8-934e-4fc3-b640-21f4fafad1a2",
   "metadata": {},
   "source": [
    "- Também é possível ler formato XLSX\n",
    "- O método sendo 'pd.read_excel()'"
   ]
  },
  {
   "cell_type": "markdown",
   "id": "417de2f2-9bc2-44c2-9334-50eef37760c1",
   "metadata": {},
   "source": [
    "<h1>Fim</h1>"
   ]
  }
 ],
 "metadata": {
  "kernelspec": {
   "display_name": "Python 3 (ipykernel)",
   "language": "python",
   "name": "python3"
  },
  "language_info": {
   "codemirror_mode": {
    "name": "ipython",
    "version": 3
   },
   "file_extension": ".py",
   "mimetype": "text/x-python",
   "name": "python",
   "nbconvert_exporter": "python",
   "pygments_lexer": "ipython3",
   "version": "3.12.3"
  }
 },
 "nbformat": 4,
 "nbformat_minor": 5
}
